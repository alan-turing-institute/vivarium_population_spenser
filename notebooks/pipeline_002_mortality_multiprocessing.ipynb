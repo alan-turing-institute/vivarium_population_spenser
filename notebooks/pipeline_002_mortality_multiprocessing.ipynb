{
 "cells": [
  {
   "cell_type": "markdown",
   "metadata": {},
   "source": [
    "# Pipeline example, mortality\n",
    "\n",
    "This notebook uses the same demographic components as `pipeline_001_mortality`, and it runs five simulations in parallel using `multiprocessing`."
   ]
  },
  {
   "cell_type": "code",
   "execution_count": 1,
   "metadata": {},
   "outputs": [],
   "source": [
    "import datetime\n",
    "import matplotlib.pyplot as plt\n",
    "import multiprocessing\n",
    "import numpy as np\n",
    "import pandas as pd\n",
    "from pathlib import Path\n",
    "import time\n",
    "\n",
    "from vivarium import InteractiveContext\n",
    "from vivarium.framework.configuration import build_simulation_configuration\n",
    "from vivarium.config_tree import ConfigTree\n",
    "\n",
    "from vivarium_public_health.population import Mortality\n",
    "from vivarium_public_health.population.spenser_population import TestPopulation\n",
    "from vivarium_public_health.population.spenser_population import build_mortality_table\n",
    "from vivarium_public_health.population.spenser_population import transform_rate_table\n",
    "from vivarium_public_health.population.spenser_population import prepare_dataset\n",
    "\n",
    "from vivarium_public_health.utilities import read_config_file"
   ]
  },
  {
   "cell_type": "markdown",
   "metadata": {},
   "source": [
    "## Base plugins for simulation"
   ]
  },
  {
   "cell_type": "code",
   "execution_count": 2,
   "metadata": {},
   "outputs": [],
   "source": [
    "def base_plugins_simulation():\n",
    "    config = {'required': {\n",
    "                  'data': {\n",
    "                      'controller': 'vivarium_public_health.testing.mock_artifact.MockArtifactManager',\n",
    "                      'builder_interface': 'vivarium.framework.artifact.ArtifactInterface'\n",
    "                  }\n",
    "             }\n",
    "    }\n",
    "\n",
    "    return ConfigTree(config)"
   ]
  },
  {
   "cell_type": "markdown",
   "metadata": {},
   "source": [
    "## Configure a simulation"
   ]
  },
  {
   "cell_type": "code",
   "execution_count": 3,
   "metadata": {},
   "outputs": [],
   "source": [
    "def config_simulation(inp_file):        \n",
    "    # ============= CONFIGURATION\n",
    "    if inp_file['configuration']['population']['population_size'] <= 0:\n",
    "        pop_size = len(pd.read_csv(inp_file['paths']['path_to_pop_file']))\n",
    "    else:\n",
    "        pop_size = inp_file['configuration']['population']['population_size']\n",
    "    \n",
    "    # config object\n",
    "    config = build_simulation_configuration()\n",
    "    config.update({\n",
    "        'time': {\n",
    "            'start': inp_file['configuration']['time']['start'],\n",
    "            'end': inp_file['configuration']['time']['end'],\n",
    "            'step_size': inp_file['configuration']['time']['step_size']\n",
    "        },\n",
    "        'randomness': inp_file['configuration']['randomness'],\n",
    "        'input_data': inp_file['configuration']['input_data'],\n",
    "    }, \n",
    "        layer='model_override')\n",
    "    \n",
    "    config.update({\n",
    "        'path_to_pop_file': inp_file['paths']['path_to_pop_file'],\n",
    "        'path_to_mortality_file': inp_file['paths']['path_to_mortality_file'],\n",
    "        \n",
    "        'population': {\n",
    "            'population_size': pop_size,\n",
    "            'age_start': inp_file['configuration']['population']['age_start'],\n",
    "            'age_end': inp_file['configuration']['population']['age_end'],\n",
    "        },\n",
    "        },\n",
    "    )\n",
    "    return config"
   ]
  },
  {
   "cell_type": "markdown",
   "metadata": {},
   "source": [
    "## All steps required to do one simulation"
   ]
  },
  {
   "cell_type": "code",
   "execution_count": 4,
   "metadata": {},
   "outputs": [],
   "source": [
    "def run_simulation(mortality_multiply=1.):\n",
    "    inp_file = read_config_file(\"../config/model_specification_pipeline_001.yaml\")\n",
    "\n",
    "    base_plugins = base_plugins_simulation()\n",
    "    config = config_simulation(inp_file=inp_file)\n",
    "    components = [eval(x) for x in inp_file[\"list_components\"]]\n",
    "    simulation = InteractiveContext(components=components,\n",
    "                                    configuration=config,\n",
    "                                    plugin_configuration=base_plugins,\n",
    "                                    setup=False)\n",
    "\n",
    "    df = pd.read_csv(config.path_to_mortality_file)\n",
    "    # to save time, only look at locatiosn existing on the test dataset.\n",
    "    mortality_rate_df = df[(df['LAD.code']=='E09000002')]\n",
    "\n",
    "    asfr_data = transform_rate_table(mortality_rate_df,\n",
    "                                          2011,\n",
    "                                          2012,\n",
    "                                          config.population.age_start,\n",
    "                                          config.population.age_end)\n",
    "    \n",
    "    asfr_data[\"mean_value\"] *= mortality_multiply\n",
    "    simulation._data.write(\"cause.all_causes.cause_specific_mortality_rate\", asfr_data)\n",
    "    print(f\"Simulation set up -- {multiprocessing.current_process().name}\")\n",
    "    simulation.setup()\n",
    "    num_days = 365*2 + 10\n",
    "    simulation.run_for(duration=pd.Timedelta(days=num_days))\n",
    "    pop = simulation.get_population()\n",
    "    return pop"
   ]
  },
  {
   "cell_type": "code",
   "execution_count": 5,
   "metadata": {},
   "outputs": [
    {
     "name": "stdout",
     "output_type": "stream",
     "text": [
      "\n",
      "\n",
      "WARNING: BLO ethnicity is removed from the dataset\n",
      "\n",
      "Write the dataset at: ../persistant_data/test_ssm_E08000032_MSOA11_ppp_2011.csv\n"
     ]
    }
   ],
   "source": [
    "# Prepare the data only once\n",
    "inp_file = read_config_file(\"../config/model_specification_pipeline_001.yaml\")\n",
    "\n",
    "if inp_file['prepare_data']['prepare']:\n",
    "    # read a dataset (normally from daedalus), change columns to be readable by vivarium\n",
    "    # this function creates a file saved at output_path\n",
    "    prepare_dataset(\n",
    "        dataset_path=inp_file['prepare_data']['path_to_dataset'], \n",
    "        output_path=inp_file['prepare_data']['path_to_output'],\n",
    "        lookup_ethnicity=inp_file['prepare_data']['path_to_lookup_ethnicity'],\n",
    "        columns_map=inp_file['prepare_data']['columns_map'],\n",
    "        location_code=inp_file['prepare_data']['location_code']\n",
    "        )"
   ]
  },
  {
   "cell_type": "markdown",
   "metadata": {},
   "source": [
    "## Simulations\n",
    "\n",
    "Five simulations are defined by `mortality_multiply_list = [0.5, 0.8, 1, 1.2, 2]` (next cell). In this example, all the input mortality rates are multiplied by 0.5, 0.8, 1, 1.2 and 2, respectively. "
   ]
  },
  {
   "cell_type": "code",
   "execution_count": 6,
   "metadata": {
    "scrolled": true
   },
   "outputs": [
    {
     "name": "stdout",
     "output_type": "stream",
     "text": [
      "Simulation set up -- ForkPoolWorker-4Simulation set up -- ForkPoolWorker-5\n",
      "\n"
     ]
    },
    {
     "name": "stderr",
     "output_type": "stream",
     "text": [
      "2020-07-22 11:32:54.303 | DEBUG    | vivarium.framework.values:register_value_modifier:373 - Registering metrics.1.population_manager.metrics as modifier to metrics\n",
      "2020-07-22 11:32:54.306 | DEBUG    | vivarium.framework.values:register_value_modifier:373 - Registering metrics.1.population_manager.metrics as modifier to metrics\n"
     ]
    },
    {
     "name": "stdout",
     "output_type": "stream",
     "text": [
      "Simulation set up -- ForkPoolWorker-3Simulation set up -- ForkPoolWorker-2\n",
      "\n",
      "Simulation set up -- ForkPoolWorker-1"
     ]
    },
    {
     "name": "stderr",
     "output_type": "stream",
     "text": [
      "2020-07-22 11:32:54.320 | DEBUG    | vivarium.framework.values:register_value_modifier:373 - Registering metrics.1.population_manager.metrics as modifier to metrics\n",
      "2020-07-22 11:32:54.321 | DEBUG    | vivarium.framework.values:register_value_modifier:373 - Registering metrics.1.population_manager.metrics as modifier to metrics\n"
     ]
    },
    {
     "name": "stdout",
     "output_type": "stream",
     "text": [
      "\n"
     ]
    },
    {
     "name": "stderr",
     "output_type": "stream",
     "text": [
      "2020-07-22 11:32:54.328 | DEBUG    | vivarium.framework.values:register_value_modifier:373 - Registering metrics.1.population_manager.metrics as modifier to metrics\n",
      "2020-07-22 11:33:01.789 | DEBUG    | vivarium.framework.values:_register_value_producer:323 - Registering value pipeline mortality_rate\n",
      "2020-07-22 11:33:01.796 | DEBUG    | vivarium.framework.values:_register_value_producer:323 - Registering value pipeline metrics\n",
      "2020-07-22 11:33:01.824 | DEBUG    | vivarium.framework.values:_register_value_producer:323 - Registering value pipeline mortality_rate\n",
      "2020-07-22 11:33:01.831 | DEBUG    | vivarium.framework.values:_register_value_producer:323 - Registering value pipeline metrics\n",
      "2020-07-22 11:33:01.850 | DEBUG    | vivarium.framework.values:_register_value_producer:323 - Registering value pipeline mortality_rate\n",
      "2020-07-22 11:33:01.856 | DEBUG    | vivarium.framework.values:_register_value_producer:323 - Registering value pipeline metrics\n",
      "2020-07-22 11:33:01.859 | DEBUG    | vivarium.framework.values:_register_value_producer:323 - Registering value pipeline mortality_rate\n",
      "2020-07-22 11:33:01.864 | DEBUG    | vivarium.framework.values:_register_value_producer:323 - Registering value pipeline metrics\n",
      "2020-07-22 11:33:01.874 | DEBUG    | vivarium.framework.values:_register_value_producer:323 - Registering value pipeline mortality_rate\n",
      "2020-07-22 11:33:01.879 | DEBUG    | vivarium.framework.values:_register_value_producer:323 - Registering value pipeline metrics\n"
     ]
    },
    {
     "data": {
      "application/vnd.jupyter.widget-view+json": {
       "model_id": "4e5962e177334f77bbbdd724fe797c7c",
       "version_major": 2,
       "version_minor": 0
      },
      "text/plain": [
       "VBox(children=(HTML(value=''), IntProgress(value=0, max=74)))"
      ]
     },
     "metadata": {},
     "output_type": "display_data"
    },
    {
     "name": "stderr",
     "output_type": "stream",
     "text": [
      "2020-07-22 11:34:56.429 | DEBUG    | vivarium.framework.engine:step:140 - 2011-01-01 00:00:00\n"
     ]
    },
    {
     "data": {
      "application/vnd.jupyter.widget-view+json": {
       "model_id": "614b1988a8b944df99b33a320b82b402",
       "version_major": 2,
       "version_minor": 0
      },
      "text/plain": [
       "VBox(children=(HTML(value=''), IntProgress(value=0, max=74)))"
      ]
     },
     "metadata": {},
     "output_type": "display_data"
    },
    {
     "name": "stderr",
     "output_type": "stream",
     "text": [
      "2020-07-22 11:34:58.496 | DEBUG    | vivarium.framework.engine:step:140 - 2011-01-01 00:00:00\n",
      "2020-07-22 11:34:59.185 | DEBUG    | vivarium.framework.engine:step:140 - 2011-01-11 00:00:00\n"
     ]
    },
    {
     "data": {
      "application/vnd.jupyter.widget-view+json": {
       "model_id": "e26f540563984b53b3d6800394a82a5a",
       "version_major": 2,
       "version_minor": 0
      },
      "text/plain": [
       "VBox(children=(HTML(value=''), IntProgress(value=0, max=74)))"
      ]
     },
     "metadata": {},
     "output_type": "display_data"
    },
    {
     "name": "stderr",
     "output_type": "stream",
     "text": [
      "2020-07-22 11:35:00.117 | DEBUG    | vivarium.framework.engine:step:140 - 2011-01-01 00:00:00\n"
     ]
    },
    {
     "data": {
      "application/vnd.jupyter.widget-view+json": {
       "model_id": "4b9b406f82b9469cbbf7101aea0d5234",
       "version_major": 2,
       "version_minor": 0
      },
      "text/plain": [
       "VBox(children=(HTML(value=''), IntProgress(value=0, max=74)))"
      ]
     },
     "metadata": {},
     "output_type": "display_data"
    },
    {
     "name": "stderr",
     "output_type": "stream",
     "text": [
      "2020-07-22 11:35:00.235 | DEBUG    | vivarium.framework.engine:step:140 - 2011-01-01 00:00:00\n"
     ]
    },
    {
     "data": {
      "application/vnd.jupyter.widget-view+json": {
       "model_id": "41944d10c9474c9d8345f760de1aaf96",
       "version_major": 2,
       "version_minor": 0
      },
      "text/plain": [
       "VBox(children=(HTML(value=''), IntProgress(value=0, max=74)))"
      ]
     },
     "metadata": {},
     "output_type": "display_data"
    },
    {
     "name": "stderr",
     "output_type": "stream",
     "text": [
      "2020-07-22 11:35:00.374 | DEBUG    | vivarium.framework.engine:step:140 - 2011-01-01 00:00:00\n",
      "2020-07-22 11:35:01.185 | DEBUG    | vivarium.framework.engine:step:140 - 2011-01-11 00:00:00\n",
      "2020-07-22 11:35:01.990 | DEBUG    | vivarium.framework.engine:step:140 - 2011-01-21 00:00:00\n",
      "2020-07-22 11:35:03.233 | DEBUG    | vivarium.framework.engine:step:140 - 2011-01-11 00:00:00\n",
      "2020-07-22 11:35:03.348 | DEBUG    | vivarium.framework.engine:step:140 - 2011-01-11 00:00:00\n",
      "2020-07-22 11:35:03.354 | DEBUG    | vivarium.framework.engine:step:140 - 2011-01-11 00:00:00\n",
      "2020-07-22 11:35:03.993 | DEBUG    | vivarium.framework.engine:step:140 - 2011-01-21 00:00:00\n",
      "2020-07-22 11:35:04.906 | DEBUG    | vivarium.framework.engine:step:140 - 2011-01-31 00:00:00\n",
      "2020-07-22 11:35:06.079 | DEBUG    | vivarium.framework.engine:step:140 - 2011-01-21 00:00:00\n",
      "2020-07-22 11:35:06.106 | DEBUG    | vivarium.framework.engine:step:140 - 2011-01-21 00:00:00\n",
      "2020-07-22 11:35:06.234 | DEBUG    | vivarium.framework.engine:step:140 - 2011-01-21 00:00:00\n",
      "2020-07-22 11:35:06.937 | DEBUG    | vivarium.framework.engine:step:140 - 2011-01-31 00:00:00\n",
      "2020-07-22 11:35:07.796 | DEBUG    | vivarium.framework.engine:step:140 - 2011-02-10 00:00:00\n",
      "2020-07-22 11:35:08.913 | DEBUG    | vivarium.framework.engine:step:140 - 2011-01-31 00:00:00\n",
      "2020-07-22 11:35:08.935 | DEBUG    | vivarium.framework.engine:step:140 - 2011-01-31 00:00:00\n",
      "2020-07-22 11:35:09.008 | DEBUG    | vivarium.framework.engine:step:140 - 2011-01-31 00:00:00\n",
      "2020-07-22 11:35:09.638 | DEBUG    | vivarium.framework.engine:step:140 - 2011-02-10 00:00:00\n",
      "2020-07-22 11:35:10.543 | DEBUG    | vivarium.framework.engine:step:140 - 2011-02-20 00:00:00\n",
      "2020-07-22 11:35:11.658 | DEBUG    | vivarium.framework.engine:step:140 - 2011-02-10 00:00:00\n",
      "2020-07-22 11:35:11.664 | DEBUG    | vivarium.framework.engine:step:140 - 2011-02-10 00:00:00\n",
      "2020-07-22 11:35:11.720 | DEBUG    | vivarium.framework.engine:step:140 - 2011-02-10 00:00:00\n",
      "2020-07-22 11:35:12.225 | DEBUG    | vivarium.framework.engine:step:140 - 2011-02-20 00:00:00\n",
      "2020-07-22 11:35:13.148 | DEBUG    | vivarium.framework.engine:step:140 - 2011-03-02 00:00:00\n",
      "2020-07-22 11:35:14.534 | DEBUG    | vivarium.framework.engine:step:140 - 2011-02-20 00:00:00\n",
      "2020-07-22 11:35:14.572 | DEBUG    | vivarium.framework.engine:step:140 - 2011-02-20 00:00:00\n",
      "2020-07-22 11:35:14.638 | DEBUG    | vivarium.framework.engine:step:140 - 2011-02-20 00:00:00\n",
      "2020-07-22 11:35:15.157 | DEBUG    | vivarium.framework.engine:step:140 - 2011-03-02 00:00:00\n",
      "2020-07-22 11:35:16.194 | DEBUG    | vivarium.framework.engine:step:140 - 2011-03-12 00:00:00\n",
      "2020-07-22 11:35:17.423 | DEBUG    | vivarium.framework.engine:step:140 - 2011-03-02 00:00:00\n",
      "2020-07-22 11:35:17.480 | DEBUG    | vivarium.framework.engine:step:140 - 2011-03-02 00:00:00\n",
      "2020-07-22 11:35:17.497 | DEBUG    | vivarium.framework.engine:step:140 - 2011-03-02 00:00:00\n",
      "2020-07-22 11:35:17.899 | DEBUG    | vivarium.framework.engine:step:140 - 2011-03-12 00:00:00\n",
      "2020-07-22 11:35:18.908 | DEBUG    | vivarium.framework.engine:step:140 - 2011-03-22 00:00:00\n",
      "2020-07-22 11:35:20.507 | DEBUG    | vivarium.framework.engine:step:140 - 2011-03-12 00:00:00\n",
      "2020-07-22 11:35:20.604 | DEBUG    | vivarium.framework.engine:step:140 - 2011-03-12 00:00:00\n",
      "2020-07-22 11:35:20.644 | DEBUG    | vivarium.framework.engine:step:140 - 2011-03-12 00:00:00\n",
      "2020-07-22 11:35:21.051 | DEBUG    | vivarium.framework.engine:step:140 - 2011-03-22 00:00:00\n",
      "2020-07-22 11:35:22.010 | DEBUG    | vivarium.framework.engine:step:140 - 2011-04-01 00:00:00\n",
      "2020-07-22 11:35:23.175 | DEBUG    | vivarium.framework.engine:step:140 - 2011-03-22 00:00:00\n",
      "2020-07-22 11:35:23.291 | DEBUG    | vivarium.framework.engine:step:140 - 2011-03-22 00:00:00\n",
      "2020-07-22 11:35:23.338 | DEBUG    | vivarium.framework.engine:step:140 - 2011-03-22 00:00:00\n",
      "2020-07-22 11:35:23.656 | DEBUG    | vivarium.framework.engine:step:140 - 2011-04-01 00:00:00\n",
      "2020-07-22 11:35:24.419 | DEBUG    | vivarium.framework.engine:step:140 - 2011-04-11 00:00:00\n",
      "2020-07-22 11:35:26.073 | DEBUG    | vivarium.framework.engine:step:140 - 2011-04-01 00:00:00\n",
      "2020-07-22 11:35:26.137 | DEBUG    | vivarium.framework.engine:step:140 - 2011-04-01 00:00:00\n",
      "2020-07-22 11:35:26.196 | DEBUG    | vivarium.framework.engine:step:140 - 2011-04-01 00:00:00\n",
      "2020-07-22 11:35:26.441 | DEBUG    | vivarium.framework.engine:step:140 - 2011-04-11 00:00:00\n",
      "2020-07-22 11:35:27.413 | DEBUG    | vivarium.framework.engine:step:140 - 2011-04-21 00:00:00\n",
      "2020-07-22 11:35:28.978 | DEBUG    | vivarium.framework.engine:step:140 - 2011-04-11 00:00:00\n",
      "2020-07-22 11:35:29.196 | DEBUG    | vivarium.framework.engine:step:140 - 2011-04-11 00:00:00\n",
      "2020-07-22 11:35:29.248 | DEBUG    | vivarium.framework.engine:step:140 - 2011-04-11 00:00:00\n",
      "2020-07-22 11:35:29.320 | DEBUG    | vivarium.framework.engine:step:140 - 2011-04-21 00:00:00\n",
      "2020-07-22 11:35:30.309 | DEBUG    | vivarium.framework.engine:step:140 - 2011-05-01 00:00:00\n",
      "2020-07-22 11:35:31.793 | DEBUG    | vivarium.framework.engine:step:140 - 2011-04-21 00:00:00\n",
      "2020-07-22 11:35:32.039 | DEBUG    | vivarium.framework.engine:step:140 - 2011-04-21 00:00:00\n",
      "2020-07-22 11:35:32.095 | DEBUG    | vivarium.framework.engine:step:140 - 2011-04-21 00:00:00\n",
      "2020-07-22 11:35:32.138 | DEBUG    | vivarium.framework.engine:step:140 - 2011-05-01 00:00:00\n",
      "2020-07-22 11:35:32.930 | DEBUG    | vivarium.framework.engine:step:140 - 2011-05-11 00:00:00\n",
      "2020-07-22 11:35:34.562 | DEBUG    | vivarium.framework.engine:step:140 - 2011-05-01 00:00:00\n",
      "2020-07-22 11:35:34.962 | DEBUG    | vivarium.framework.engine:step:140 - 2011-05-01 00:00:00\n",
      "2020-07-22 11:35:34.979 | DEBUG    | vivarium.framework.engine:step:140 - 2011-05-01 00:00:00\n",
      "2020-07-22 11:35:35.071 | DEBUG    | vivarium.framework.engine:step:140 - 2011-05-11 00:00:00\n",
      "2020-07-22 11:35:35.941 | DEBUG    | vivarium.framework.engine:step:140 - 2011-05-21 00:00:00\n",
      "2020-07-22 11:35:37.619 | DEBUG    | vivarium.framework.engine:step:140 - 2011-05-11 00:00:00\n",
      "2020-07-22 11:35:37.839 | DEBUG    | vivarium.framework.engine:step:140 - 2011-05-11 00:00:00\n",
      "2020-07-22 11:35:37.841 | DEBUG    | vivarium.framework.engine:step:140 - 2011-05-11 00:00:00\n",
      "2020-07-22 11:35:37.880 | DEBUG    | vivarium.framework.engine:step:140 - 2011-05-21 00:00:00\n",
      "2020-07-22 11:35:38.540 | DEBUG    | vivarium.framework.engine:step:140 - 2011-05-31 00:00:00\n",
      "2020-07-22 11:35:40.176 | DEBUG    | vivarium.framework.engine:step:140 - 2011-05-21 00:00:00\n",
      "2020-07-22 11:35:40.363 | DEBUG    | vivarium.framework.engine:step:140 - 2011-05-21 00:00:00\n",
      "2020-07-22 11:35:40.412 | DEBUG    | vivarium.framework.engine:step:140 - 2011-05-21 00:00:00\n",
      "2020-07-22 11:35:40.498 | DEBUG    | vivarium.framework.engine:step:140 - 2011-05-31 00:00:00\n",
      "2020-07-22 11:35:41.061 | DEBUG    | vivarium.framework.engine:step:140 - 2011-06-10 00:00:00\n",
      "2020-07-22 11:35:42.896 | DEBUG    | vivarium.framework.engine:step:140 - 2011-05-31 00:00:00\n",
      "2020-07-22 11:35:43.162 | DEBUG    | vivarium.framework.engine:step:140 - 2011-05-31 00:00:00\n",
      "2020-07-22 11:35:43.259 | DEBUG    | vivarium.framework.engine:step:140 - 2011-05-31 00:00:00\n",
      "2020-07-22 11:35:43.260 | DEBUG    | vivarium.framework.engine:step:140 - 2011-06-10 00:00:00\n",
      "2020-07-22 11:35:43.863 | DEBUG    | vivarium.framework.engine:step:140 - 2011-06-20 00:00:00\n",
      "2020-07-22 11:35:45.703 | DEBUG    | vivarium.framework.engine:step:140 - 2011-06-10 00:00:00\n",
      "2020-07-22 11:35:45.932 | DEBUG    | vivarium.framework.engine:step:140 - 2011-06-10 00:00:00\n",
      "2020-07-22 11:35:46.034 | DEBUG    | vivarium.framework.engine:step:140 - 2011-06-10 00:00:00\n",
      "2020-07-22 11:35:46.048 | DEBUG    | vivarium.framework.engine:step:140 - 2011-06-20 00:00:00\n",
      "2020-07-22 11:35:46.827 | DEBUG    | vivarium.framework.engine:step:140 - 2011-06-30 00:00:00\n",
      "2020-07-22 11:35:48.509 | DEBUG    | vivarium.framework.engine:step:140 - 2011-06-20 00:00:00\n",
      "2020-07-22 11:35:48.941 | DEBUG    | vivarium.framework.engine:step:140 - 2011-06-30 00:00:00\n",
      "2020-07-22 11:35:48.948 | DEBUG    | vivarium.framework.engine:step:140 - 2011-06-20 00:00:00\n",
      "2020-07-22 11:35:49.014 | DEBUG    | vivarium.framework.engine:step:140 - 2011-06-20 00:00:00\n",
      "2020-07-22 11:35:49.550 | DEBUG    | vivarium.framework.engine:step:140 - 2011-07-10 00:00:00\n"
     ]
    },
    {
     "name": "stderr",
     "output_type": "stream",
     "text": [
      "2020-07-22 11:35:51.366 | DEBUG    | vivarium.framework.engine:step:140 - 2011-06-30 00:00:00\n",
      "2020-07-22 11:35:51.664 | DEBUG    | vivarium.framework.engine:step:140 - 2011-07-10 00:00:00\n",
      "2020-07-22 11:35:51.708 | DEBUG    | vivarium.framework.engine:step:140 - 2011-06-30 00:00:00\n",
      "2020-07-22 11:35:51.797 | DEBUG    | vivarium.framework.engine:step:140 - 2011-06-30 00:00:00\n",
      "2020-07-22 11:35:52.224 | DEBUG    | vivarium.framework.engine:step:140 - 2011-07-20 00:00:00\n",
      "2020-07-22 11:35:54.199 | DEBUG    | vivarium.framework.engine:step:140 - 2011-07-10 00:00:00\n",
      "2020-07-22 11:35:54.556 | DEBUG    | vivarium.framework.engine:step:140 - 2011-07-10 00:00:00\n",
      "2020-07-22 11:35:54.560 | DEBUG    | vivarium.framework.engine:step:140 - 2011-07-20 00:00:00\n",
      "2020-07-22 11:35:54.674 | DEBUG    | vivarium.framework.engine:step:140 - 2011-07-10 00:00:00\n",
      "2020-07-22 11:35:55.016 | DEBUG    | vivarium.framework.engine:step:140 - 2011-07-30 00:00:00\n",
      "2020-07-22 11:35:56.812 | DEBUG    | vivarium.framework.engine:step:140 - 2011-07-20 00:00:00\n",
      "2020-07-22 11:35:57.144 | DEBUG    | vivarium.framework.engine:step:140 - 2011-07-30 00:00:00\n",
      "2020-07-22 11:35:57.207 | DEBUG    | vivarium.framework.engine:step:140 - 2011-07-20 00:00:00\n",
      "2020-07-22 11:35:57.228 | DEBUG    | vivarium.framework.engine:step:140 - 2011-07-20 00:00:00\n",
      "2020-07-22 11:35:57.522 | DEBUG    | vivarium.framework.engine:step:140 - 2011-08-09 00:00:00\n",
      "2020-07-22 11:35:59.287 | DEBUG    | vivarium.framework.engine:step:140 - 2011-07-30 00:00:00\n",
      "2020-07-22 11:35:59.586 | DEBUG    | vivarium.framework.engine:step:140 - 2011-08-09 00:00:00\n",
      "2020-07-22 11:35:59.662 | DEBUG    | vivarium.framework.engine:step:140 - 2011-07-30 00:00:00\n",
      "2020-07-22 11:35:59.713 | DEBUG    | vivarium.framework.engine:step:140 - 2011-07-30 00:00:00\n",
      "2020-07-22 11:35:59.965 | DEBUG    | vivarium.framework.engine:step:140 - 2011-08-19 00:00:00\n",
      "2020-07-22 11:36:01.865 | DEBUG    | vivarium.framework.engine:step:140 - 2011-08-09 00:00:00\n",
      "2020-07-22 11:36:02.175 | DEBUG    | vivarium.framework.engine:step:140 - 2011-08-19 00:00:00\n",
      "2020-07-22 11:36:02.245 | DEBUG    | vivarium.framework.engine:step:140 - 2011-08-09 00:00:00\n",
      "2020-07-22 11:36:02.245 | DEBUG    | vivarium.framework.engine:step:140 - 2011-08-09 00:00:00\n",
      "2020-07-22 11:36:02.488 | DEBUG    | vivarium.framework.engine:step:140 - 2011-08-29 00:00:00\n",
      "2020-07-22 11:36:04.379 | DEBUG    | vivarium.framework.engine:step:140 - 2011-08-19 00:00:00\n",
      "2020-07-22 11:36:04.697 | DEBUG    | vivarium.framework.engine:step:140 - 2011-08-29 00:00:00\n",
      "2020-07-22 11:36:04.805 | DEBUG    | vivarium.framework.engine:step:140 - 2011-08-19 00:00:00\n",
      "2020-07-22 11:36:04.870 | DEBUG    | vivarium.framework.engine:step:140 - 2011-08-19 00:00:00\n",
      "2020-07-22 11:36:05.049 | DEBUG    | vivarium.framework.engine:step:140 - 2011-09-08 00:00:00\n",
      "2020-07-22 11:36:07.067 | DEBUG    | vivarium.framework.engine:step:140 - 2011-08-29 00:00:00\n",
      "2020-07-22 11:36:07.444 | DEBUG    | vivarium.framework.engine:step:140 - 2011-09-08 00:00:00\n",
      "2020-07-22 11:36:07.549 | DEBUG    | vivarium.framework.engine:step:140 - 2011-08-29 00:00:00\n",
      "2020-07-22 11:36:07.623 | DEBUG    | vivarium.framework.engine:step:140 - 2011-08-29 00:00:00\n",
      "2020-07-22 11:36:07.818 | DEBUG    | vivarium.framework.engine:step:140 - 2011-09-18 00:00:00\n",
      "2020-07-22 11:36:09.678 | DEBUG    | vivarium.framework.engine:step:140 - 2011-09-08 00:00:00\n",
      "2020-07-22 11:36:10.006 | DEBUG    | vivarium.framework.engine:step:140 - 2011-09-18 00:00:00\n",
      "2020-07-22 11:36:10.163 | DEBUG    | vivarium.framework.engine:step:140 - 2011-09-08 00:00:00\n",
      "2020-07-22 11:36:10.228 | DEBUG    | vivarium.framework.engine:step:140 - 2011-09-08 00:00:00\n",
      "2020-07-22 11:36:10.348 | DEBUG    | vivarium.framework.engine:step:140 - 2011-09-28 00:00:00\n",
      "2020-07-22 11:36:12.221 | DEBUG    | vivarium.framework.engine:step:140 - 2011-09-18 00:00:00\n",
      "2020-07-22 11:36:12.512 | DEBUG    | vivarium.framework.engine:step:140 - 2011-09-28 00:00:00\n",
      "2020-07-22 11:36:12.726 | DEBUG    | vivarium.framework.engine:step:140 - 2011-09-18 00:00:00\n",
      "2020-07-22 11:36:12.798 | DEBUG    | vivarium.framework.engine:step:140 - 2011-09-18 00:00:00\n",
      "2020-07-22 11:36:12.908 | DEBUG    | vivarium.framework.engine:step:140 - 2011-10-08 00:00:00\n",
      "2020-07-22 11:36:15.165 | DEBUG    | vivarium.framework.engine:step:140 - 2011-09-28 00:00:00\n",
      "2020-07-22 11:36:15.429 | DEBUG    | vivarium.framework.engine:step:140 - 2011-10-08 00:00:00\n",
      "2020-07-22 11:36:15.735 | DEBUG    | vivarium.framework.engine:step:140 - 2011-09-28 00:00:00\n",
      "2020-07-22 11:36:15.839 | DEBUG    | vivarium.framework.engine:step:140 - 2011-10-18 00:00:00\n",
      "2020-07-22 11:36:15.878 | DEBUG    | vivarium.framework.engine:step:140 - 2011-09-28 00:00:00\n",
      "2020-07-22 11:36:17.899 | DEBUG    | vivarium.framework.engine:step:140 - 2011-10-08 00:00:00\n",
      "2020-07-22 11:36:18.245 | DEBUG    | vivarium.framework.engine:step:140 - 2011-10-18 00:00:00\n",
      "2020-07-22 11:36:18.586 | DEBUG    | vivarium.framework.engine:step:140 - 2011-10-08 00:00:00\n",
      "2020-07-22 11:36:18.781 | DEBUG    | vivarium.framework.engine:step:140 - 2011-10-28 00:00:00\n",
      "2020-07-22 11:36:18.829 | DEBUG    | vivarium.framework.engine:step:140 - 2011-10-08 00:00:00\n",
      "2020-07-22 11:36:20.791 | DEBUG    | vivarium.framework.engine:step:140 - 2011-10-18 00:00:00\n",
      "2020-07-22 11:36:21.335 | DEBUG    | vivarium.framework.engine:step:140 - 2011-10-28 00:00:00\n",
      "2020-07-22 11:36:21.498 | DEBUG    | vivarium.framework.engine:step:140 - 2011-10-18 00:00:00\n",
      "2020-07-22 11:36:21.708 | DEBUG    | vivarium.framework.engine:step:140 - 2011-11-07 00:00:00\n",
      "2020-07-22 11:36:21.806 | DEBUG    | vivarium.framework.engine:step:140 - 2011-10-18 00:00:00\n",
      "2020-07-22 11:36:23.777 | DEBUG    | vivarium.framework.engine:step:140 - 2011-10-28 00:00:00\n",
      "2020-07-22 11:36:24.227 | DEBUG    | vivarium.framework.engine:step:140 - 2011-11-07 00:00:00\n",
      "2020-07-22 11:36:24.353 | DEBUG    | vivarium.framework.engine:step:140 - 2011-10-28 00:00:00\n",
      "2020-07-22 11:36:24.453 | DEBUG    | vivarium.framework.engine:step:140 - 2011-11-17 00:00:00\n",
      "2020-07-22 11:36:24.568 | DEBUG    | vivarium.framework.engine:step:140 - 2011-10-28 00:00:00\n",
      "2020-07-22 11:36:26.313 | DEBUG    | vivarium.framework.engine:step:140 - 2011-11-07 00:00:00\n",
      "2020-07-22 11:36:27.006 | DEBUG    | vivarium.framework.engine:step:140 - 2011-11-17 00:00:00\n",
      "2020-07-22 11:36:27.159 | DEBUG    | vivarium.framework.engine:step:140 - 2011-11-07 00:00:00\n",
      "2020-07-22 11:36:27.199 | DEBUG    | vivarium.framework.engine:step:140 - 2011-11-27 00:00:00\n",
      "2020-07-22 11:36:27.307 | DEBUG    | vivarium.framework.engine:step:140 - 2011-11-07 00:00:00\n",
      "2020-07-22 11:36:29.089 | DEBUG    | vivarium.framework.engine:step:140 - 2011-11-17 00:00:00\n",
      "2020-07-22 11:36:29.768 | DEBUG    | vivarium.framework.engine:step:140 - 2011-11-27 00:00:00\n",
      "2020-07-22 11:36:29.978 | DEBUG    | vivarium.framework.engine:step:140 - 2011-11-17 00:00:00\n",
      "2020-07-22 11:36:30.085 | DEBUG    | vivarium.framework.engine:step:140 - 2011-12-07 00:00:00\n",
      "2020-07-22 11:36:30.093 | DEBUG    | vivarium.framework.engine:step:140 - 2011-11-17 00:00:00\n",
      "2020-07-22 11:36:32.262 | DEBUG    | vivarium.framework.engine:step:140 - 2011-11-27 00:00:00\n",
      "2020-07-22 11:36:32.813 | DEBUG    | vivarium.framework.engine:step:140 - 2011-12-07 00:00:00\n",
      "2020-07-22 11:36:32.995 | DEBUG    | vivarium.framework.engine:step:140 - 2011-11-27 00:00:00\n",
      "2020-07-22 11:36:33.061 | DEBUG    | vivarium.framework.engine:step:140 - 2011-11-27 00:00:00\n",
      "2020-07-22 11:36:33.089 | DEBUG    | vivarium.framework.engine:step:140 - 2011-12-17 00:00:00\n",
      "2020-07-22 11:36:34.737 | DEBUG    | vivarium.framework.engine:step:140 - 2011-12-07 00:00:00\n",
      "2020-07-22 11:36:35.316 | DEBUG    | vivarium.framework.engine:step:140 - 2011-12-17 00:00:00\n",
      "2020-07-22 11:36:35.546 | DEBUG    | vivarium.framework.engine:step:140 - 2011-12-07 00:00:00\n",
      "2020-07-22 11:36:35.622 | DEBUG    | vivarium.framework.engine:step:140 - 2011-12-27 00:00:00\n",
      "2020-07-22 11:36:35.692 | DEBUG    | vivarium.framework.engine:step:140 - 2011-12-07 00:00:00\n",
      "2020-07-22 11:36:37.592 | DEBUG    | vivarium.framework.engine:step:140 - 2011-12-17 00:00:00\n",
      "2020-07-22 11:36:37.908 | DEBUG    | vivarium.framework.engine:step:140 - 2011-12-27 00:00:00\n",
      "2020-07-22 11:36:38.189 | DEBUG    | vivarium.framework.engine:step:140 - 2011-12-17 00:00:00\n"
     ]
    },
    {
     "name": "stderr",
     "output_type": "stream",
     "text": [
      "2020-07-22 11:36:38.204 | DEBUG    | vivarium.framework.engine:step:140 - 2012-01-06 00:00:00\n",
      "2020-07-22 11:36:38.305 | DEBUG    | vivarium.framework.engine:step:140 - 2011-12-17 00:00:00\n",
      "2020-07-22 11:36:40.075 | DEBUG    | vivarium.framework.engine:step:140 - 2011-12-27 00:00:00\n",
      "2020-07-22 11:36:40.401 | DEBUG    | vivarium.framework.engine:step:140 - 2012-01-06 00:00:00\n",
      "2020-07-22 11:36:40.718 | DEBUG    | vivarium.framework.engine:step:140 - 2012-01-16 00:00:00\n",
      "2020-07-22 11:36:40.726 | DEBUG    | vivarium.framework.engine:step:140 - 2011-12-27 00:00:00\n",
      "2020-07-22 11:36:40.785 | DEBUG    | vivarium.framework.engine:step:140 - 2011-12-27 00:00:00\n",
      "2020-07-22 11:36:42.705 | DEBUG    | vivarium.framework.engine:step:140 - 2012-01-06 00:00:00\n",
      "2020-07-22 11:36:43.020 | DEBUG    | vivarium.framework.engine:step:140 - 2012-01-16 00:00:00\n",
      "2020-07-22 11:36:43.386 | DEBUG    | vivarium.framework.engine:step:140 - 2012-01-26 00:00:00\n",
      "2020-07-22 11:36:43.405 | DEBUG    | vivarium.framework.engine:step:140 - 2012-01-06 00:00:00\n",
      "2020-07-22 11:36:43.426 | DEBUG    | vivarium.framework.engine:step:140 - 2012-01-06 00:00:00\n",
      "2020-07-22 11:36:45.314 | DEBUG    | vivarium.framework.engine:step:140 - 2012-01-16 00:00:00\n",
      "2020-07-22 11:36:45.623 | DEBUG    | vivarium.framework.engine:step:140 - 2012-01-26 00:00:00\n",
      "2020-07-22 11:36:46.007 | DEBUG    | vivarium.framework.engine:step:140 - 2012-01-16 00:00:00\n",
      "2020-07-22 11:36:46.009 | DEBUG    | vivarium.framework.engine:step:140 - 2012-02-05 00:00:00\n",
      "2020-07-22 11:36:46.009 | DEBUG    | vivarium.framework.engine:step:140 - 2012-01-16 00:00:00\n",
      "2020-07-22 11:36:47.884 | DEBUG    | vivarium.framework.engine:step:140 - 2012-01-26 00:00:00\n",
      "2020-07-22 11:36:48.233 | DEBUG    | vivarium.framework.engine:step:140 - 2012-02-05 00:00:00\n",
      "2020-07-22 11:36:48.622 | DEBUG    | vivarium.framework.engine:step:140 - 2012-01-26 00:00:00\n",
      "2020-07-22 11:36:48.676 | DEBUG    | vivarium.framework.engine:step:140 - 2012-01-26 00:00:00\n",
      "2020-07-22 11:36:48.668 | DEBUG    | vivarium.framework.engine:step:140 - 2012-02-15 00:00:00\n",
      "2020-07-22 11:36:50.367 | DEBUG    | vivarium.framework.engine:step:140 - 2012-02-05 00:00:00\n",
      "2020-07-22 11:36:50.819 | DEBUG    | vivarium.framework.engine:step:140 - 2012-02-15 00:00:00\n",
      "2020-07-22 11:36:51.126 | DEBUG    | vivarium.framework.engine:step:140 - 2012-02-05 00:00:00\n",
      "2020-07-22 11:36:51.179 | DEBUG    | vivarium.framework.engine:step:140 - 2012-02-25 00:00:00\n",
      "2020-07-22 11:36:51.274 | DEBUG    | vivarium.framework.engine:step:140 - 2012-02-05 00:00:00\n",
      "2020-07-22 11:36:53.050 | DEBUG    | vivarium.framework.engine:step:140 - 2012-02-15 00:00:00\n",
      "2020-07-22 11:36:53.521 | DEBUG    | vivarium.framework.engine:step:140 - 2012-02-25 00:00:00\n",
      "2020-07-22 11:36:53.896 | DEBUG    | vivarium.framework.engine:step:140 - 2012-02-15 00:00:00\n",
      "2020-07-22 11:36:53.920 | DEBUG    | vivarium.framework.engine:step:140 - 2012-03-06 00:00:00\n",
      "2020-07-22 11:36:54.047 | DEBUG    | vivarium.framework.engine:step:140 - 2012-02-15 00:00:00\n",
      "2020-07-22 11:36:55.836 | DEBUG    | vivarium.framework.engine:step:140 - 2012-02-25 00:00:00\n",
      "2020-07-22 11:36:56.303 | DEBUG    | vivarium.framework.engine:step:140 - 2012-03-06 00:00:00\n",
      "2020-07-22 11:36:56.680 | DEBUG    | vivarium.framework.engine:step:140 - 2012-02-25 00:00:00\n",
      "2020-07-22 11:36:56.706 | DEBUG    | vivarium.framework.engine:step:140 - 2012-03-16 00:00:00\n",
      "2020-07-22 11:36:56.799 | DEBUG    | vivarium.framework.engine:step:140 - 2012-02-25 00:00:00\n",
      "2020-07-22 11:36:58.517 | DEBUG    | vivarium.framework.engine:step:140 - 2012-03-06 00:00:00\n",
      "2020-07-22 11:36:59.031 | DEBUG    | vivarium.framework.engine:step:140 - 2012-03-16 00:00:00\n",
      "2020-07-22 11:36:59.343 | DEBUG    | vivarium.framework.engine:step:140 - 2012-03-06 00:00:00\n",
      "2020-07-22 11:36:59.447 | DEBUG    | vivarium.framework.engine:step:140 - 2012-03-06 00:00:00\n",
      "2020-07-22 11:36:59.556 | DEBUG    | vivarium.framework.engine:step:140 - 2012-03-26 00:00:00\n",
      "2020-07-22 11:37:01.273 | DEBUG    | vivarium.framework.engine:step:140 - 2012-03-16 00:00:00\n",
      "2020-07-22 11:37:01.814 | DEBUG    | vivarium.framework.engine:step:140 - 2012-03-26 00:00:00\n",
      "2020-07-22 11:37:02.118 | DEBUG    | vivarium.framework.engine:step:140 - 2012-03-16 00:00:00\n",
      "2020-07-22 11:37:02.255 | DEBUG    | vivarium.framework.engine:step:140 - 2012-03-16 00:00:00\n",
      "2020-07-22 11:37:02.357 | DEBUG    | vivarium.framework.engine:step:140 - 2012-04-05 00:00:00\n",
      "2020-07-22 11:37:04.015 | DEBUG    | vivarium.framework.engine:step:140 - 2012-03-26 00:00:00\n",
      "2020-07-22 11:37:04.486 | DEBUG    | vivarium.framework.engine:step:140 - 2012-04-05 00:00:00\n",
      "2020-07-22 11:37:04.861 | DEBUG    | vivarium.framework.engine:step:140 - 2012-03-26 00:00:00\n",
      "2020-07-22 11:37:04.931 | DEBUG    | vivarium.framework.engine:step:140 - 2012-03-26 00:00:00\n",
      "2020-07-22 11:37:05.036 | DEBUG    | vivarium.framework.engine:step:140 - 2012-04-15 00:00:00\n",
      "2020-07-22 11:37:06.651 | DEBUG    | vivarium.framework.engine:step:140 - 2012-04-05 00:00:00\n",
      "2020-07-22 11:37:07.015 | DEBUG    | vivarium.framework.engine:step:140 - 2012-04-15 00:00:00\n",
      "2020-07-22 11:37:07.461 | DEBUG    | vivarium.framework.engine:step:140 - 2012-04-05 00:00:00\n",
      "2020-07-22 11:37:07.490 | DEBUG    | vivarium.framework.engine:step:140 - 2012-04-05 00:00:00\n",
      "2020-07-22 11:37:07.595 | DEBUG    | vivarium.framework.engine:step:140 - 2012-04-25 00:00:00\n",
      "2020-07-22 11:37:09.382 | DEBUG    | vivarium.framework.engine:step:140 - 2012-04-15 00:00:00\n",
      "2020-07-22 11:37:09.728 | DEBUG    | vivarium.framework.engine:step:140 - 2012-04-25 00:00:00\n",
      "2020-07-22 11:37:10.455 | DEBUG    | vivarium.framework.engine:step:140 - 2012-04-15 00:00:00\n",
      "2020-07-22 11:37:10.464 | DEBUG    | vivarium.framework.engine:step:140 - 2012-04-15 00:00:00\n",
      "2020-07-22 11:37:10.583 | DEBUG    | vivarium.framework.engine:step:140 - 2012-05-05 00:00:00\n",
      "2020-07-22 11:37:12.386 | DEBUG    | vivarium.framework.engine:step:140 - 2012-04-25 00:00:00\n",
      "2020-07-22 11:37:12.602 | DEBUG    | vivarium.framework.engine:step:140 - 2012-05-05 00:00:00\n",
      "2020-07-22 11:37:13.172 | DEBUG    | vivarium.framework.engine:step:140 - 2012-04-25 00:00:00\n",
      "2020-07-22 11:37:13.179 | DEBUG    | vivarium.framework.engine:step:140 - 2012-04-25 00:00:00\n",
      "2020-07-22 11:37:13.360 | DEBUG    | vivarium.framework.engine:step:140 - 2012-05-15 00:00:00\n",
      "2020-07-22 11:37:14.922 | DEBUG    | vivarium.framework.engine:step:140 - 2012-05-05 00:00:00\n",
      "2020-07-22 11:37:15.060 | DEBUG    | vivarium.framework.engine:step:140 - 2012-05-15 00:00:00\n",
      "2020-07-22 11:37:15.574 | DEBUG    | vivarium.framework.engine:step:140 - 2012-05-05 00:00:00\n",
      "2020-07-22 11:37:15.594 | DEBUG    | vivarium.framework.engine:step:140 - 2012-05-05 00:00:00\n",
      "2020-07-22 11:37:15.790 | DEBUG    | vivarium.framework.engine:step:140 - 2012-05-25 00:00:00\n",
      "2020-07-22 11:37:17.234 | DEBUG    | vivarium.framework.engine:step:140 - 2012-05-15 00:00:00\n",
      "2020-07-22 11:37:17.359 | DEBUG    | vivarium.framework.engine:step:140 - 2012-05-25 00:00:00\n",
      "2020-07-22 11:37:18.117 | DEBUG    | vivarium.framework.engine:step:140 - 2012-05-15 00:00:00\n",
      "2020-07-22 11:37:18.210 | DEBUG    | vivarium.framework.engine:step:140 - 2012-05-15 00:00:00\n",
      "2020-07-22 11:37:18.315 | DEBUG    | vivarium.framework.engine:step:140 - 2012-06-04 00:00:00\n",
      "2020-07-22 11:37:20.020 | DEBUG    | vivarium.framework.engine:step:140 - 2012-05-25 00:00:00\n",
      "2020-07-22 11:37:20.170 | DEBUG    | vivarium.framework.engine:step:140 - 2012-06-04 00:00:00\n",
      "2020-07-22 11:37:20.797 | DEBUG    | vivarium.framework.engine:step:140 - 2012-05-25 00:00:00\n",
      "2020-07-22 11:37:20.823 | DEBUG    | vivarium.framework.engine:step:140 - 2012-05-25 00:00:00\n",
      "2020-07-22 11:37:20.888 | DEBUG    | vivarium.framework.engine:step:140 - 2012-06-14 00:00:00\n",
      "2020-07-22 11:37:22.454 | DEBUG    | vivarium.framework.engine:step:140 - 2012-06-04 00:00:00\n",
      "2020-07-22 11:37:22.562 | DEBUG    | vivarium.framework.engine:step:140 - 2012-06-14 00:00:00\n",
      "2020-07-22 11:37:23.293 | DEBUG    | vivarium.framework.engine:step:140 - 2012-06-04 00:00:00\n",
      "2020-07-22 11:37:23.360 | DEBUG    | vivarium.framework.engine:step:140 - 2012-06-04 00:00:00\n",
      "2020-07-22 11:37:23.374 | DEBUG    | vivarium.framework.engine:step:140 - 2012-06-24 00:00:00\n",
      "2020-07-22 11:37:24.880 | DEBUG    | vivarium.framework.engine:step:140 - 2012-06-14 00:00:00\n"
     ]
    },
    {
     "name": "stderr",
     "output_type": "stream",
     "text": [
      "2020-07-22 11:37:24.965 | DEBUG    | vivarium.framework.engine:step:140 - 2012-06-24 00:00:00\n",
      "2020-07-22 11:37:25.563 | DEBUG    | vivarium.framework.engine:step:140 - 2012-06-14 00:00:00\n",
      "2020-07-22 11:37:25.701 | DEBUG    | vivarium.framework.engine:step:140 - 2012-06-14 00:00:00\n",
      "2020-07-22 11:37:25.796 | DEBUG    | vivarium.framework.engine:step:140 - 2012-07-04 00:00:00\n",
      "2020-07-22 11:37:27.326 | DEBUG    | vivarium.framework.engine:step:140 - 2012-06-24 00:00:00\n",
      "2020-07-22 11:37:27.383 | DEBUG    | vivarium.framework.engine:step:140 - 2012-07-04 00:00:00\n",
      "2020-07-22 11:37:28.140 | DEBUG    | vivarium.framework.engine:step:140 - 2012-06-24 00:00:00\n",
      "2020-07-22 11:37:28.224 | DEBUG    | vivarium.framework.engine:step:140 - 2012-06-24 00:00:00\n",
      "2020-07-22 11:37:28.293 | DEBUG    | vivarium.framework.engine:step:140 - 2012-07-14 00:00:00\n",
      "2020-07-22 11:37:29.861 | DEBUG    | vivarium.framework.engine:step:140 - 2012-07-14 00:00:00\n",
      "2020-07-22 11:37:29.870 | DEBUG    | vivarium.framework.engine:step:140 - 2012-07-04 00:00:00\n",
      "2020-07-22 11:37:30.746 | DEBUG    | vivarium.framework.engine:step:140 - 2012-07-04 00:00:00\n",
      "2020-07-22 11:37:30.885 | DEBUG    | vivarium.framework.engine:step:140 - 2012-07-04 00:00:00\n",
      "2020-07-22 11:37:31.030 | DEBUG    | vivarium.framework.engine:step:140 - 2012-07-24 00:00:00\n",
      "2020-07-22 11:37:32.555 | DEBUG    | vivarium.framework.engine:step:140 - 2012-07-24 00:00:00\n",
      "2020-07-22 11:37:32.698 | DEBUG    | vivarium.framework.engine:step:140 - 2012-07-14 00:00:00\n",
      "2020-07-22 11:37:33.484 | DEBUG    | vivarium.framework.engine:step:140 - 2012-07-14 00:00:00\n",
      "2020-07-22 11:37:33.641 | DEBUG    | vivarium.framework.engine:step:140 - 2012-07-14 00:00:00\n",
      "2020-07-22 11:37:33.724 | DEBUG    | vivarium.framework.engine:step:140 - 2012-08-03 00:00:00\n",
      "2020-07-22 11:37:35.036 | DEBUG    | vivarium.framework.engine:step:140 - 2012-08-03 00:00:00\n",
      "2020-07-22 11:37:35.204 | DEBUG    | vivarium.framework.engine:step:140 - 2012-07-24 00:00:00\n",
      "2020-07-22 11:37:35.880 | DEBUG    | vivarium.framework.engine:step:140 - 2012-07-24 00:00:00\n",
      "2020-07-22 11:37:36.104 | DEBUG    | vivarium.framework.engine:step:140 - 2012-07-24 00:00:00\n",
      "2020-07-22 11:37:36.187 | DEBUG    | vivarium.framework.engine:step:140 - 2012-08-13 00:00:00\n",
      "2020-07-22 11:37:37.593 | DEBUG    | vivarium.framework.engine:step:140 - 2012-08-13 00:00:00\n",
      "2020-07-22 11:37:37.731 | DEBUG    | vivarium.framework.engine:step:140 - 2012-08-03 00:00:00\n",
      "2020-07-22 11:37:38.261 | DEBUG    | vivarium.framework.engine:step:140 - 2012-08-03 00:00:00\n",
      "2020-07-22 11:37:38.648 | DEBUG    | vivarium.framework.engine:step:140 - 2012-08-03 00:00:00\n",
      "2020-07-22 11:37:38.723 | DEBUG    | vivarium.framework.engine:step:140 - 2012-08-23 00:00:00\n",
      "2020-07-22 11:37:39.942 | DEBUG    | vivarium.framework.engine:step:140 - 2012-08-23 00:00:00\n",
      "2020-07-22 11:37:40.100 | DEBUG    | vivarium.framework.engine:step:140 - 2012-08-13 00:00:00\n",
      "2020-07-22 11:37:40.657 | DEBUG    | vivarium.framework.engine:step:140 - 2012-08-13 00:00:00\n",
      "2020-07-22 11:37:41.065 | DEBUG    | vivarium.framework.engine:step:140 - 2012-08-13 00:00:00\n",
      "2020-07-22 11:37:41.225 | DEBUG    | vivarium.framework.engine:step:140 - 2012-09-02 00:00:00\n",
      "2020-07-22 11:37:42.448 | DEBUG    | vivarium.framework.engine:step:140 - 2012-09-02 00:00:00\n",
      "2020-07-22 11:37:42.627 | DEBUG    | vivarium.framework.engine:step:140 - 2012-08-23 00:00:00\n",
      "2020-07-22 11:37:43.244 | DEBUG    | vivarium.framework.engine:step:140 - 2012-08-23 00:00:00\n",
      "2020-07-22 11:37:43.664 | DEBUG    | vivarium.framework.engine:step:140 - 2012-09-12 00:00:00\n",
      "2020-07-22 11:37:43.700 | DEBUG    | vivarium.framework.engine:step:140 - 2012-08-23 00:00:00\n",
      "2020-07-22 11:37:44.889 | DEBUG    | vivarium.framework.engine:step:140 - 2012-09-12 00:00:00\n",
      "2020-07-22 11:37:45.080 | DEBUG    | vivarium.framework.engine:step:140 - 2012-09-02 00:00:00\n",
      "2020-07-22 11:37:45.647 | DEBUG    | vivarium.framework.engine:step:140 - 2012-09-02 00:00:00\n",
      "2020-07-22 11:37:46.042 | DEBUG    | vivarium.framework.engine:step:140 - 2012-09-22 00:00:00\n",
      "2020-07-22 11:37:46.183 | DEBUG    | vivarium.framework.engine:step:140 - 2012-09-02 00:00:00\n",
      "2020-07-22 11:37:47.355 | DEBUG    | vivarium.framework.engine:step:140 - 2012-09-22 00:00:00\n",
      "2020-07-22 11:37:47.595 | DEBUG    | vivarium.framework.engine:step:140 - 2012-09-12 00:00:00\n",
      "2020-07-22 11:37:48.163 | DEBUG    | vivarium.framework.engine:step:140 - 2012-09-12 00:00:00\n",
      "2020-07-22 11:37:48.524 | DEBUG    | vivarium.framework.engine:step:140 - 2012-10-02 00:00:00\n",
      "2020-07-22 11:37:48.653 | DEBUG    | vivarium.framework.engine:step:140 - 2012-09-12 00:00:00\n",
      "2020-07-22 11:37:49.704 | DEBUG    | vivarium.framework.engine:step:140 - 2012-10-02 00:00:00\n",
      "2020-07-22 11:37:50.021 | DEBUG    | vivarium.framework.engine:step:140 - 2012-09-22 00:00:00\n",
      "2020-07-22 11:37:50.643 | DEBUG    | vivarium.framework.engine:step:140 - 2012-09-22 00:00:00\n",
      "2020-07-22 11:37:51.142 | DEBUG    | vivarium.framework.engine:step:140 - 2012-10-12 00:00:00\n",
      "2020-07-22 11:37:51.276 | DEBUG    | vivarium.framework.engine:step:140 - 2012-09-22 00:00:00\n",
      "2020-07-22 11:37:52.816 | DEBUG    | vivarium.framework.engine:step:140 - 2012-10-12 00:00:00\n",
      "2020-07-22 11:37:53.252 | DEBUG    | vivarium.framework.engine:step:140 - 2012-10-02 00:00:00\n",
      "2020-07-22 11:37:53.933 | DEBUG    | vivarium.framework.engine:step:140 - 2012-10-02 00:00:00\n",
      "2020-07-22 11:37:54.503 | DEBUG    | vivarium.framework.engine:step:140 - 2012-10-02 00:00:00\n",
      "2020-07-22 11:37:54.633 | DEBUG    | vivarium.framework.engine:step:140 - 2012-10-22 00:00:00\n",
      "2020-07-22 11:37:56.113 | DEBUG    | vivarium.framework.engine:step:140 - 2012-10-22 00:00:00\n",
      "2020-07-22 11:37:56.530 | DEBUG    | vivarium.framework.engine:step:140 - 2012-10-12 00:00:00\n",
      "2020-07-22 11:37:57.304 | DEBUG    | vivarium.framework.engine:step:140 - 2012-10-12 00:00:00\n",
      "2020-07-22 11:37:57.883 | DEBUG    | vivarium.framework.engine:step:140 - 2012-10-12 00:00:00\n",
      "2020-07-22 11:37:58.044 | DEBUG    | vivarium.framework.engine:step:140 - 2012-11-01 00:00:00\n",
      "2020-07-22 11:37:59.305 | DEBUG    | vivarium.framework.engine:step:140 - 2012-11-01 00:00:00\n",
      "2020-07-22 11:37:59.684 | DEBUG    | vivarium.framework.engine:step:140 - 2012-10-22 00:00:00\n",
      "2020-07-22 11:38:00.169 | DEBUG    | vivarium.framework.engine:step:140 - 2012-10-22 00:00:00\n",
      "2020-07-22 11:38:00.651 | DEBUG    | vivarium.framework.engine:step:140 - 2012-10-22 00:00:00\n",
      "2020-07-22 11:38:00.765 | DEBUG    | vivarium.framework.engine:step:140 - 2012-11-11 00:00:00\n",
      "2020-07-22 11:38:02.061 | DEBUG    | vivarium.framework.engine:step:140 - 2012-11-11 00:00:00\n",
      "2020-07-22 11:38:02.658 | DEBUG    | vivarium.framework.engine:step:140 - 2012-11-01 00:00:00\n",
      "2020-07-22 11:38:03.092 | DEBUG    | vivarium.framework.engine:step:140 - 2012-11-01 00:00:00\n",
      "2020-07-22 11:38:03.966 | DEBUG    | vivarium.framework.engine:step:140 - 2012-11-01 00:00:00\n",
      "2020-07-22 11:38:04.012 | DEBUG    | vivarium.framework.engine:step:140 - 2012-11-21 00:00:00\n",
      "2020-07-22 11:38:05.187 | DEBUG    | vivarium.framework.engine:step:140 - 2012-11-21 00:00:00\n",
      "2020-07-22 11:38:05.742 | DEBUG    | vivarium.framework.engine:step:140 - 2012-11-11 00:00:00\n",
      "2020-07-22 11:38:06.181 | DEBUG    | vivarium.framework.engine:step:140 - 2012-11-11 00:00:00\n",
      "2020-07-22 11:38:07.036 | DEBUG    | vivarium.framework.engine:step:140 - 2012-12-01 00:00:00\n",
      "2020-07-22 11:38:07.061 | DEBUG    | vivarium.framework.engine:step:140 - 2012-11-11 00:00:00\n",
      "2020-07-22 11:38:07.946 | DEBUG    | vivarium.framework.engine:step:140 - 2012-12-01 00:00:00\n",
      "2020-07-22 11:38:08.526 | DEBUG    | vivarium.framework.engine:step:140 - 2012-11-21 00:00:00\n",
      "2020-07-22 11:38:08.983 | DEBUG    | vivarium.framework.engine:step:140 - 2012-11-21 00:00:00\n",
      "2020-07-22 11:38:09.424 | DEBUG    | vivarium.framework.engine:step:140 - 2012-12-11 00:00:00\n",
      "2020-07-22 11:38:09.453 | DEBUG    | vivarium.framework.engine:step:140 - 2012-11-21 00:00:00\n",
      "2020-07-22 11:38:10.304 | DEBUG    | vivarium.framework.engine:step:140 - 2012-12-11 00:00:00\n",
      "2020-07-22 11:38:10.832 | DEBUG    | vivarium.framework.engine:step:140 - 2012-12-01 00:00:00\n",
      "2020-07-22 11:38:11.330 | DEBUG    | vivarium.framework.engine:step:140 - 2012-12-01 00:00:00\n",
      "2020-07-22 11:38:11.776 | DEBUG    | vivarium.framework.engine:step:140 - 2012-12-01 00:00:00\n"
     ]
    },
    {
     "name": "stderr",
     "output_type": "stream",
     "text": [
      "2020-07-22 11:38:11.799 | DEBUG    | vivarium.framework.engine:step:140 - 2012-12-21 00:00:00\n",
      "2020-07-22 11:38:12.644 | DEBUG    | vivarium.framework.engine:step:140 - 2012-12-21 00:00:00\n",
      "2020-07-22 11:38:13.200 | DEBUG    | vivarium.framework.engine:step:140 - 2012-12-11 00:00:00\n",
      "2020-07-22 11:38:13.706 | DEBUG    | vivarium.framework.engine:step:140 - 2012-12-11 00:00:00\n",
      "2020-07-22 11:38:14.053 | DEBUG    | vivarium.framework.engine:step:140 - 2012-12-11 00:00:00\n",
      "2020-07-22 11:38:14.085 | DEBUG    | vivarium.framework.engine:step:140 - 2012-12-31 00:00:00\n",
      "2020-07-22 11:38:14.937 | DEBUG    | vivarium.framework.engine:step:140 - 2012-12-31 00:00:00\n",
      "2020-07-22 11:38:15.458 | DEBUG    | vivarium.framework.engine:step:140 - 2012-12-21 00:00:00\n",
      "2020-07-22 11:38:16.035 | DEBUG    | vivarium.framework.engine:step:140 - 2012-12-21 00:00:00\n",
      "2020-07-22 11:38:16.375 | DEBUG    | vivarium.framework.engine:step:140 - 2012-12-21 00:00:00\n",
      "2020-07-22 11:38:17.616 | DEBUG    | vivarium.framework.engine:step:140 - 2012-12-31 00:00:00\n",
      "2020-07-22 11:38:18.176 | DEBUG    | vivarium.framework.engine:step:140 - 2012-12-31 00:00:00\n",
      "2020-07-22 11:38:18.403 | DEBUG    | vivarium.framework.engine:step:140 - 2012-12-31 00:00:00\n"
     ]
    }
   ],
   "source": [
    "sim_start = time.time()\n",
    "\n",
    "mortality_multiply_list = [0.5, 0.8, 1, 1.2, 2]\n",
    "\n",
    "proc_pool = multiprocessing.Pool(6)\n",
    "results = proc_pool.map(run_simulation, (mortality_multiply_list))\n",
    "proc_pool.close()\n",
    "proc_pool.join()\n",
    "\n",
    "sim_end = time.time()"
   ]
  },
  {
   "cell_type": "code",
   "execution_count": 7,
   "metadata": {},
   "outputs": [
    {
     "data": {
      "text/plain": [
       "5"
      ]
     },
     "execution_count": 7,
     "metadata": {},
     "output_type": "execute_result"
    }
   ],
   "source": [
    "len(results)"
   ]
  },
  {
   "cell_type": "code",
   "execution_count": 8,
   "metadata": {},
   "outputs": [
    {
     "name": "stdout",
     "output_type": "stream",
     "text": [
      "Total time: 327.5995349884033\n",
      "----\n",
      "0.5\n",
      "#alive: 517968\n",
      "#dead: 4453\n",
      "----\n",
      "0.8\n",
      "#alive: 515260\n",
      "#dead: 7161\n",
      "----\n",
      "1\n",
      "#alive: 513616\n",
      "#dead: 8805\n",
      "----\n",
      "1.2\n",
      "#alive: 512045\n",
      "#dead: 10376\n",
      "----\n",
      "2\n",
      "#alive: 505908\n",
      "#dead: 16513\n"
     ]
    }
   ],
   "source": [
    "print(f\"Total time: {sim_end - sim_start}\")\n",
    "for i, pop in enumerate(results):\n",
    "    print(\"----\")\n",
    "    print(mortality_multiply_list[i])\n",
    "    print (f'#alive: {len(pop[pop[\"alive\"]==\"alive\"])}')\n",
    "    print (f'#dead: {len(pop[pop[\"alive\"]!=\"alive\"])}')"
   ]
  },
  {
   "cell_type": "markdown",
   "metadata": {},
   "source": [
    "## Plot results"
   ]
  },
  {
   "cell_type": "code",
   "execution_count": 9,
   "metadata": {},
   "outputs": [
    {
     "name": "stdout",
     "output_type": "stream",
     "text": [
      "min_time: 2011-01-01\n",
      "max_time: 2012-12-31 00:00:00\n"
     ]
    }
   ],
   "source": [
    "#min_time = pop[\"entrance_time\"].min().strftime(\"%Y-%m-%d\")\n",
    "min_time = \"2011-01-01\"\n",
    "max_time = datetime.datetime.strptime(\"2012-12-31\", \"%Y-%m-%d\")\n",
    "\n",
    "print(\"min_time:\", min_time)\n",
    "print(\"max_time:\", max_time)"
   ]
  },
  {
   "cell_type": "code",
   "execution_count": 10,
   "metadata": {},
   "outputs": [],
   "source": [
    "from pandas.plotting import register_matplotlib_converters\n",
    "register_matplotlib_converters()"
   ]
  },
  {
   "cell_type": "code",
   "execution_count": 11,
   "metadata": {},
   "outputs": [
    {
     "data": {
      "image/png": "[encoded data removed]",
      "text/plain": [
       "<Figure size 1080x720 with 1 Axes>"
      ]
     },
     "metadata": {
      "needs_background": "light"
     },
     "output_type": "display_data"
    }
   ],
   "source": [
    "# --- input\n",
    "# intervals for plotting (in days)\n",
    "interval_in_days = 10\n",
    "# list of ethnicities\n",
    "sel_ethnicity = [\"WBI\", \"WHO\"]\n",
    "\n",
    "pop = results[0]\n",
    "plt.figure(figsize=(15, 10))\n",
    "\n",
    "cmap = plt.get_cmap('Greys')\n",
    "colors = [cmap(i) for i in np.linspace(0, 1, len(results)+2)]\n",
    "\n",
    "for i, pop in enumerate(results):\n",
    "    # Population (total, for selected ethnicities, gender)\n",
    "    total_population = len(pop)\n",
    "    total_population_ETH = len(pop[pop[\"ethnicity\"].isin(sel_ethnicity)])\n",
    "    total_population_male = len(pop[pop[\"sex\"] == 1])\n",
    "    total_population_female = len(pop[pop[\"sex\"] == 2])\n",
    "\n",
    "    time_axis = []\n",
    "    population_axis = []\n",
    "    population_ETH_axis = []\n",
    "    population_M_axis = []\n",
    "    population_F_axis = []\n",
    "\n",
    "    curr_time = datetime.datetime.strptime(min_time, \"%Y-%m-%d\")\n",
    "\n",
    "    \n",
    "    \n",
    "    while curr_time <= max_time:\n",
    "        time_axis.append(curr_time)\n",
    "\n",
    "        # dead population until current time (changes in the while loop)\n",
    "        pop_dead = pop[pop[\"exit_time\"] <= curr_time.strftime(\"%Y-%m-%d\")]\n",
    "\n",
    "        num_dead_population = total_population - len(pop_dead)\n",
    "        population_axis.append(num_dead_population)\n",
    "\n",
    "        num_dead_population_eth = total_population_ETH - len(pop_dead[pop_dead[\"ethnicity\"].isin(sel_ethnicity)])\n",
    "        population_ETH_axis.append(num_dead_population_eth)\n",
    "\n",
    "        num_dead_male = total_population_male - len(pop_dead[pop_dead[\"sex\"] == 1])\n",
    "        population_M_axis.append(num_dead_male)\n",
    "\n",
    "        num_dead_female = total_population_female - len(pop_dead[pop_dead[\"sex\"] == 2])\n",
    "        population_F_axis.append(num_dead_female)\n",
    "\n",
    "        # go to next time, according to the selected interval_in_days\n",
    "        curr_time = datetime.datetime.strptime(curr_time.strftime(\"%Y-%m-%d\"), \"%Y-%m-%d\")\n",
    "        curr_time += datetime.timedelta(days=interval_in_days)\n",
    "\n",
    "    # Population (total)\n",
    "    plt.plot(time_axis, population_axis, \n",
    "             c=colors[i+2], lw=4, marker=\"o\", \n",
    "             label=f\"{mortality_multiply_list[i]}\"\n",
    "            )\n",
    "plt.xlabel(\"Time\", size=32)\n",
    "plt.ylabel(\"Population\", size=32)\n",
    "plt.xticks(size=24, rotation=90)\n",
    "plt.yticks(size=24)\n",
    "plt.grid()\n",
    "plt.legend(fontsize=24)\n",
    "plt.show()"
   ]
  },
  {
   "cell_type": "code",
   "execution_count": null,
   "metadata": {},
   "outputs": [],
   "source": []
  },
  {
   "cell_type": "code",
   "execution_count": null,
   "metadata": {},
   "outputs": [],
   "source": []
  }
 ],
 "metadata": {
  "kernelspec": {
   "display_name": "Python 3",
   "language": "python",
   "name": "python3"
  },
  "language_info": {
   "codemirror_mode": {
    "name": "ipython",
    "version": 3
   },
   "file_extension": ".py",
   "mimetype": "text/x-python",
   "name": "python",
   "nbconvert_exporter": "python",
   "pygments_lexer": "ipython3",
   "version": "3.7.6"
  }
 },
 "nbformat": 4,
 "nbformat_minor": 4
}
