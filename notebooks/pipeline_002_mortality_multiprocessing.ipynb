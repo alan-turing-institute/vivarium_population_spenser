{
 "cells": [
  {
   "cell_type": "markdown",
   "metadata": {},
   "source": [
    "# Pipeline example, mortality\n",
    "\n",
    "This notebook uses the same demographic components as `pipeline_001_mortality`, and it runs five simulations in parallel using `multiprocessing`."
   ]
  },
  {
   "cell_type": "code",
   "execution_count": 1,
   "metadata": {},
   "outputs": [],
   "source": [
    "import datetime\n",
    "import matplotlib.pyplot as plt\n",
    "import multiprocessing\n",
    "import numpy as np\n",
    "import pandas as pd\n",
    "from pathlib import Path\n",
    "import time\n",
    "\n",
    "from vivarium import InteractiveContext\n",
    "from vivarium.framework.configuration import build_simulation_configuration\n",
    "from vivarium.config_tree import ConfigTree\n",
    "\n",
    "from vivarium_public_health.population import Mortality\n",
    "from vivarium_public_health.population.spenser_population import TestPopulation\n",
    "from vivarium_public_health.population.spenser_population import build_mortality_table\n",
    "from vivarium_public_health.population.spenser_population import transform_rate_table\n",
    "from vivarium_public_health.population.spenser_population import prepare_dataset\n",
    "\n",
    "from vivarium_public_health.utilities import read_config_file"
   ]
  },
  {
   "cell_type": "markdown",
   "metadata": {},
   "source": [
    "## Base plugins for simulation"
   ]
  },
  {
   "cell_type": "code",
   "execution_count": 2,
   "metadata": {},
   "outputs": [],
   "source": [
    "def base_plugins_simulation():\n",
    "    config = {'required': {\n",
    "                  'data': {\n",
    "                      'controller': 'vivarium_public_health.testing.mock_artifact.MockArtifactManager',\n",
    "                      'builder_interface': 'vivarium.framework.artifact.ArtifactInterface'\n",
    "                  }\n",
    "             }\n",
    "    }\n",
    "\n",
    "    return ConfigTree(config)"
   ]
  },
  {
   "cell_type": "markdown",
   "metadata": {},
   "source": [
    "## Configure a simulation"
   ]
  },
  {
   "cell_type": "code",
   "execution_count": 3,
   "metadata": {},
   "outputs": [],
   "source": [
    "def config_simulation(inp_file):        \n",
    "    # ============= CONFIGURATION\n",
    "    if inp_file['configuration']['population']['population_size'] <= 0:\n",
    "        pop_size = len(pd.read_csv(inp_file['paths']['path_to_pop_file']))\n",
    "    else:\n",
    "        pop_size = inp_file['configuration']['population']['population_size']\n",
    "    \n",
    "    # config object\n",
    "    config = build_simulation_configuration()\n",
    "    config.update({\n",
    "        'time': {\n",
    "            'start': inp_file['configuration']['time']['start'],\n",
    "            'end': inp_file['configuration']['time']['end'],\n",
    "            'step_size': inp_file['configuration']['time']['step_size']\n",
    "        },\n",
    "        'randomness': inp_file['configuration']['randomness'],\n",
    "        'input_data': inp_file['configuration']['input_data'],\n",
    "    }, \n",
    "        layer='model_override')\n",
    "    \n",
    "    config.update({\n",
    "        'path_to_pop_file': inp_file['paths']['path_to_pop_file'],\n",
    "        'path_to_mortality_file': inp_file['paths']['path_to_mortality_file'],\n",
    "        \n",
    "        'population': {\n",
    "            'population_size': pop_size,\n",
    "            'age_start': inp_file['configuration']['population']['age_start'],\n",
    "            'age_end': inp_file['configuration']['population']['age_end'],\n",
    "        },\n",
    "        },\n",
    "    )\n",
    "    return config"
   ]
  },
  {
   "cell_type": "markdown",
   "metadata": {},
   "source": [
    "## All steps required to do one simulation"
   ]
  },
  {
   "cell_type": "code",
   "execution_count": 4,
   "metadata": {},
   "outputs": [],
   "source": [
    "def run_simulation(mortality_multiply=1.):\n",
    "    inp_file = read_config_file(\"../config/model_specification_pipeline_001.yaml\")\n",
    "\n",
    "    base_plugins = base_plugins_simulation()\n",
    "    config = config_simulation(inp_file=inp_file)\n",
    "    components = [eval(x) for x in inp_file[\"list_components\"]]\n",
    "    simulation = InteractiveContext(components=components,\n",
    "                                    configuration=config,\n",
    "                                    plugin_configuration=base_plugins,\n",
    "                                    setup=False)\n",
    "\n",
    "    df = pd.read_csv(config.path_to_mortality_file)\n",
    "    # to save time, only look at locatiosn existing on the test dataset.\n",
    "    mortality_rate_df = df[(df['LAD.code']=='E08000032')]\n",
    "\n",
    "    asfr_data = transform_rate_table(mortality_rate_df,\n",
    "                                          2011,\n",
    "                                          2012,\n",
    "                                          config.population.age_start,\n",
    "                                          config.population.age_end)\n",
    "    \n",
    "    asfr_data[\"mean_value\"] *= mortality_multiply\n",
    "    simulation._data.write(\"cause.all_causes.cause_specific_mortality_rate\", asfr_data)\n",
    "    print(f\"Simulation set up -- {multiprocessing.current_process().name}\")\n",
    "    simulation.setup()\n",
    "    num_days = 365*2 + 10\n",
    "    simulation.run_for(duration=pd.Timedelta(days=num_days))\n",
    "    pop = simulation.get_population()\n",
    "    return pop"
   ]
  },
  {
   "cell_type": "code",
   "execution_count": 5,
   "metadata": {},
   "outputs": [
    {
     "name": "stdout",
     "output_type": "stream",
     "text": [
      "\n",
      "\n",
      "WARNING: BLO ethnicity is removed from the dataset\n",
      "\n",
      "Write the dataset at: ../persistant_data/test_ssm_E08000032_MSOA11_ppp_2011.csv\n"
     ]
    }
   ],
   "source": [
    "# Prepare the data only once\n",
    "inp_file = read_config_file(\"../config/model_specification_pipeline_001.yaml\")\n",
    "\n",
    "if inp_file['prepare_data']['prepare']:\n",
    "    # read a dataset (normally from daedalus), change columns to be readable by vivarium\n",
    "    # this function creates a file saved at output_path\n",
    "    prepare_dataset(\n",
    "        dataset_path=inp_file['prepare_data']['path_to_dataset'], \n",
    "        output_path=inp_file['prepare_data']['path_to_output'],\n",
    "        lookup_ethnicity=inp_file['prepare_data']['path_to_lookup_ethnicity'],\n",
    "        columns_map=inp_file['prepare_data']['columns_map'],\n",
    "        location_code=inp_file['prepare_data']['location_code']\n",
    "        )"
   ]
  },
  {
   "cell_type": "markdown",
   "metadata": {},
   "source": [
    "## Simulations\n",
    "\n",
    "Five simulations are defined by `mortality_multiply_list = [0.5, 0.8, 1, 1.2, 2]` (next cell). In this example, all the input mortality rates are multiplied by 0.5, 0.8, 1, 1.2 and 2, respectively. "
   ]
  },
  {
   "cell_type": "code",
   "execution_count": null,
   "metadata": {
    "scrolled": true
   },
   "outputs": [
    {
     "name": "stdout",
     "output_type": "stream",
     "text": [
      "Simulation set up -- ForkPoolWorker-5\n"
     ]
    },
    {
     "name": "stderr",
     "output_type": "stream",
     "text": [
      "2020-07-22 11:19:32.209 | DEBUG    | vivarium.framework.values:register_value_modifier:373 - Registering metrics.1.population_manager.metrics as modifier to metrics\n"
     ]
    },
    {
     "name": "stdout",
     "output_type": "stream",
     "text": [
      "Simulation set up -- ForkPoolWorker-1Simulation set up -- ForkPoolWorker-2\n",
      "\n",
      "Simulation set up -- ForkPoolWorker-4\n"
     ]
    },
    {
     "name": "stderr",
     "output_type": "stream",
     "text": [
      "2020-07-22 11:19:32.234 | DEBUG    | vivarium.framework.values:register_value_modifier:373 - Registering metrics.1.population_manager.metrics as modifier to metrics\n",
      "2020-07-22 11:19:32.235 | DEBUG    | vivarium.framework.values:register_value_modifier:373 - Registering metrics.1.population_manager.metrics as modifier to metrics\n"
     ]
    },
    {
     "name": "stdout",
     "output_type": "stream",
     "text": [
      "Simulation set up -- ForkPoolWorker-3"
     ]
    },
    {
     "name": "stderr",
     "output_type": "stream",
     "text": [
      "2020-07-22 11:19:32.240 | DEBUG    | vivarium.framework.values:register_value_modifier:373 - Registering metrics.1.population_manager.metrics as modifier to metrics\n"
     ]
    },
    {
     "name": "stdout",
     "output_type": "stream",
     "text": [
      "\n"
     ]
    },
    {
     "name": "stderr",
     "output_type": "stream",
     "text": [
      "2020-07-22 11:19:32.255 | DEBUG    | vivarium.framework.values:register_value_modifier:373 - Registering metrics.1.population_manager.metrics as modifier to metrics\n",
      "2020-07-22 11:19:39.888 | DEBUG    | vivarium.framework.values:_register_value_producer:323 - Registering value pipeline mortality_rate\n",
      "2020-07-22 11:19:39.893 | DEBUG    | vivarium.framework.values:_register_value_producer:323 - Registering value pipeline metrics\n",
      "2020-07-22 11:19:39.925 | DEBUG    | vivarium.framework.values:_register_value_producer:323 - Registering value pipeline mortality_rate\n",
      "2020-07-22 11:19:39.931 | DEBUG    | vivarium.framework.values:_register_value_producer:323 - Registering value pipeline metrics\n",
      "2020-07-22 11:19:39.953 | DEBUG    | vivarium.framework.values:_register_value_producer:323 - Registering value pipeline mortality_rate\n",
      "2020-07-22 11:19:39.958 | DEBUG    | vivarium.framework.values:_register_value_producer:323 - Registering value pipeline metrics\n",
      "2020-07-22 11:19:39.968 | DEBUG    | vivarium.framework.values:_register_value_producer:323 - Registering value pipeline mortality_rate\n",
      "2020-07-22 11:19:39.974 | DEBUG    | vivarium.framework.values:_register_value_producer:323 - Registering value pipeline metrics\n",
      "2020-07-22 11:19:40.009 | DEBUG    | vivarium.framework.values:_register_value_producer:323 - Registering value pipeline mortality_rate\n",
      "2020-07-22 11:19:40.016 | DEBUG    | vivarium.framework.values:_register_value_producer:323 - Registering value pipeline metrics\n"
     ]
    }
   ],
   "source": [
    "sim_start = time.time()\n",
    "\n",
    "mortality_multiply_list = [0.5, 0.8, 1, 1.2, 2]\n",
    "\n",
    "proc_pool = multiprocessing.Pool(6)\n",
    "results = proc_pool.map(run_simulation, (mortality_multiply_list))\n",
    "proc_pool.close()\n",
    "proc_pool.join()\n",
    "\n",
    "sim_end = time.time()"
   ]
  },
  {
   "cell_type": "code",
   "execution_count": null,
   "metadata": {},
   "outputs": [],
   "source": [
    "len(results)"
   ]
  },
  {
   "cell_type": "code",
   "execution_count": null,
   "metadata": {},
   "outputs": [],
   "source": [
    "print(f\"Total time: {sim_end - sim_start}\")\n",
    "for i, pop in enumerate(results):\n",
    "    print(\"----\")\n",
    "    print(mortality_multiply_list[i])\n",
    "    print (f'#alive: {len(pop[pop[\"alive\"]==\"alive\"])}')\n",
    "    print (f'#dead: {len(pop[pop[\"alive\"]!=\"alive\"])}')"
   ]
  },
  {
   "cell_type": "markdown",
   "metadata": {},
   "source": [
    "## Plot results"
   ]
  },
  {
   "cell_type": "code",
   "execution_count": null,
   "metadata": {},
   "outputs": [],
   "source": [
    "#min_time = pop[\"entrance_time\"].min().strftime(\"%Y-%m-%d\")\n",
    "min_time = \"2011-01-01\"\n",
    "max_time = datetime.datetime.strptime(\"2012-12-31\", \"%Y-%m-%d\")\n",
    "\n",
    "print(\"min_time:\", min_time)\n",
    "print(\"max_time:\", max_time)"
   ]
  },
  {
   "cell_type": "code",
   "execution_count": null,
   "metadata": {},
   "outputs": [],
   "source": [
    "from pandas.plotting import register_matplotlib_converters\n",
    "register_matplotlib_converters()"
   ]
  },
  {
   "cell_type": "code",
   "execution_count": null,
   "metadata": {},
   "outputs": [],
   "source": [
    "# --- input\n",
    "# intervals for plotting (in days)\n",
    "interval_in_days = 10\n",
    "# list of ethnicities\n",
    "sel_ethnicity = [\"WBI\", \"WHO\"]\n",
    "\n",
    "pop = results[0]\n",
    "plt.figure(figsize=(15, 10))\n",
    "\n",
    "cmap = plt.get_cmap('Greys')\n",
    "colors = [cmap(i) for i in np.linspace(0, 1, len(results)+2)]\n",
    "\n",
    "for i, pop in enumerate(results):\n",
    "    # Population (total, for selected ethnicities, gender)\n",
    "    total_population = len(pop)\n",
    "    total_population_ETH = len(pop[pop[\"ethnicity\"].isin(sel_ethnicity)])\n",
    "    total_population_male = len(pop[pop[\"sex\"] == 1])\n",
    "    total_population_female = len(pop[pop[\"sex\"] == 2])\n",
    "\n",
    "    time_axis = []\n",
    "    population_axis = []\n",
    "    population_ETH_axis = []\n",
    "    population_M_axis = []\n",
    "    population_F_axis = []\n",
    "\n",
    "    curr_time = datetime.datetime.strptime(min_time, \"%Y-%m-%d\")\n",
    "\n",
    "    \n",
    "    \n",
    "    while curr_time <= max_time:\n",
    "        time_axis.append(curr_time)\n",
    "\n",
    "        # dead population until current time (changes in the while loop)\n",
    "        pop_dead = pop[pop[\"exit_time\"] <= curr_time.strftime(\"%Y-%m-%d\")]\n",
    "\n",
    "        num_dead_population = total_population - len(pop_dead)\n",
    "        population_axis.append(num_dead_population)\n",
    "\n",
    "        num_dead_population_eth = total_population_ETH - len(pop_dead[pop_dead[\"ethnicity\"].isin(sel_ethnicity)])\n",
    "        population_ETH_axis.append(num_dead_population_eth)\n",
    "\n",
    "        num_dead_male = total_population_male - len(pop_dead[pop_dead[\"sex\"] == 1])\n",
    "        population_M_axis.append(num_dead_male)\n",
    "\n",
    "        num_dead_female = total_population_female - len(pop_dead[pop_dead[\"sex\"] == 2])\n",
    "        population_F_axis.append(num_dead_female)\n",
    "\n",
    "        # go to next time, according to the selected interval_in_days\n",
    "        curr_time = datetime.datetime.strptime(curr_time.strftime(\"%Y-%m-%d\"), \"%Y-%m-%d\")\n",
    "        curr_time += datetime.timedelta(days=interval_in_days)\n",
    "\n",
    "    # Population (total)\n",
    "    plt.plot(time_axis, population_axis, \n",
    "             c=colors[i+2], lw=4, marker=\"o\", \n",
    "             label=f\"{mortality_multiply_list[i]}\"\n",
    "            )\n",
    "plt.xlabel(\"Time\", size=32)\n",
    "plt.ylabel(\"Population\", size=32)\n",
    "plt.xticks(size=24, rotation=90)\n",
    "plt.yticks(size=24)\n",
    "plt.grid()\n",
    "plt.legend(fontsize=24)\n",
    "plt.show()"
   ]
  },
  {
   "cell_type": "code",
   "execution_count": null,
   "metadata": {},
   "outputs": [],
   "source": []
  },
  {
   "cell_type": "code",
   "execution_count": null,
   "metadata": {},
   "outputs": [],
   "source": []
  }
 ],
 "metadata": {
  "kernelspec": {
   "display_name": "Python 3",
   "language": "python",
   "name": "python3"
  },
  "language_info": {
   "codemirror_mode": {
    "name": "ipython",
    "version": 3
   },
   "file_extension": ".py",
   "mimetype": "text/x-python",
   "name": "python",
   "nbconvert_exporter": "python",
   "pygments_lexer": "ipython3",
   "version": "3.7.6"
  }
 },
 "nbformat": 4,
 "nbformat_minor": 4
}
