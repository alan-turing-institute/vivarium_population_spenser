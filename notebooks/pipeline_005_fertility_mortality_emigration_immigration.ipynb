{
 "cells": [
  {
   "cell_type": "markdown",
   "metadata": {},
   "source": [
    "# Pipeline example: mortality, fertility and immigration"
   ]
  },
  {
   "cell_type": "code",
   "execution_count": null,
   "metadata": {},
   "outputs": [],
   "source": [
    "import datetime\n",
    "import matplotlib.pyplot as plt\n",
    "import numpy as np\n",
    "import pandas as pd\n",
    "from pathlib import Path\n",
    "import time\n",
    "\n",
    "from vivarium import InteractiveContext\n",
    "from vivarium.framework.configuration import build_simulation_configuration\n",
    "from vivarium.config_tree import ConfigTree\n",
    "\n",
    "from vivarium_public_health.population import FertilityAgeSpecificRates\n",
    "from vivarium_public_health.population import Mortality\n",
    "from vivarium_public_health.population import Emigration\n",
    "from vivarium_public_health.population import ImmigrationDeterministic as Immigration\n",
    "\n",
    "from vivarium_public_health.population.spenser_population import TestPopulation\n",
    "from vivarium_public_health.population.spenser_population import build_mortality_table\n",
    "from vivarium_public_health.population.spenser_population import transform_rate_table\n",
    "from vivarium_public_health.population.spenser_population import prepare_dataset\n",
    "from vivarium_public_health.population.spenser_population import compute_migration_rates\n",
    "\n",
    "from vivarium_public_health.utilities import read_config_file"
   ]
  },
  {
   "cell_type": "markdown",
   "metadata": {},
   "source": [
    "## Base plugins for simulation"
   ]
  },
  {
   "cell_type": "code",
   "execution_count": null,
   "metadata": {},
   "outputs": [],
   "source": [
    "def base_plugins_simulation():\n",
    "    config = {'required': {\n",
    "                  'data': {\n",
    "                      'controller': 'vivarium_public_health.testing.mock_artifact.MockArtifactManager',\n",
    "                      'builder_interface': 'vivarium.framework.artifact.ArtifactInterface'\n",
    "                  }\n",
    "             }\n",
    "    }\n",
    "\n",
    "    return ConfigTree(config)"
   ]
  },
  {
   "cell_type": "markdown",
   "metadata": {},
   "source": [
    "## Configure a simulation"
   ]
  },
  {
   "cell_type": "code",
   "execution_count": null,
   "metadata": {},
   "outputs": [],
   "source": [
    "def config_simulation(inp_file):\n",
    "    \n",
    "    if inp_file['prepare_data']['prepare']:\n",
    "        # read a dataset (normally from daedalus), change columns to be readable by vivarium\n",
    "        # this function creates a file saved at output_path\n",
    "        prepare_dataset(\n",
    "            dataset_path=inp_file['prepare_data']['path_to_dataset'], \n",
    "            output_path=inp_file['prepare_data']['path_to_output'],\n",
    "            lookup_ethnicity=inp_file['prepare_data']['path_to_lookup_ethnicity'],\n",
    "            columns_map=inp_file['prepare_data']['columns_map'],\n",
    "            location_code=inp_file['prepare_data']['location_code']\n",
    "        )\n",
    "    \n",
    "    # ============= CONFIGURATION\n",
    "    if inp_file['configuration']['population']['population_size'] <= 0:\n",
    "        pop_size = len(pd.read_csv(inp_file['paths']['path_to_pop_file']))\n",
    "    else:\n",
    "        pop_size = inp_file['configuration']['population']['population_size']\n",
    "    \n",
    "    # config object\n",
    "    config = build_simulation_configuration()\n",
    "    config.update({\n",
    "        'time': {\n",
    "            'start': inp_file['configuration']['time']['start'],\n",
    "            'end': inp_file['configuration']['time']['end'],\n",
    "            'step_size': inp_file['configuration']['time']['step_size']\n",
    "        },\n",
    "        'randomness': inp_file['configuration']['randomness'],\n",
    "        'input_data': inp_file['configuration']['input_data'],\n",
    "    }, \n",
    "        layer='model_override')\n",
    "    \n",
    "    config.update({\n",
    "        'path_to_pop_file': inp_file['paths']['path_to_pop_file'],\n",
    "        'path_to_mortality_file': inp_file['paths']['path_to_mortality_file'],\n",
    "        'path_to_fertility_file': inp_file['paths']['path_to_fertility_file'],\n",
    "        'path_to_emigration_file': inp_file['paths']['path_to_emigration_file'],\n",
    "        'path_to_immigration_file': inp_file['paths']['path_to_immigration_file'],\n",
    "        'path_to_total_population_file': inp_file['paths']['path_to_total_population_file'],\n",
    "        \n",
    "        'population': {\n",
    "            'population_size': pop_size,\n",
    "            'age_start': inp_file['configuration']['population']['age_start'],\n",
    "            'age_end': inp_file['configuration']['population']['age_end'],\n",
    "        },\n",
    "        },\n",
    "    )\n",
    "    return config"
   ]
  },
  {
   "cell_type": "markdown",
   "metadata": {},
   "source": [
    "## Create an interactive context manager"
   ]
  },
  {
   "cell_type": "code",
   "execution_count": null,
   "metadata": {},
   "outputs": [],
   "source": [
    "inp_file = read_config_file(\"../config/model_specification_pipeline_005.yaml\")\n",
    "\n",
    "base_plugins = base_plugins_simulation()\n",
    "config = config_simulation(inp_file=inp_file)\n",
    "components = [eval(x) for x in inp_file[\"list_components\"]]\n",
    "simulation = InteractiveContext(components=components,\n",
    "                                configuration=config,\n",
    "                                plugin_configuration=base_plugins,\n",
    "                                setup=False)"
   ]
  },
  {
   "cell_type": "markdown",
   "metadata": {},
   "source": [
    "## Mortality rates"
   ]
  },
  {
   "cell_type": "code",
   "execution_count": null,
   "metadata": {},
   "outputs": [],
   "source": [
    "components"
   ]
  },
  {
   "cell_type": "code",
   "execution_count": null,
   "metadata": {},
   "outputs": [],
   "source": [
    "df = pd.read_csv(config.path_to_mortality_file)\n",
    "# to save time, only look at locatiosn existing on the test dataset.\n",
    "mortality_rate_df = df[(df['LAD.code']=='E09000002')]\n",
    "\n",
    "asfr_data = transform_rate_table(mortality_rate_df,\n",
    "                                      2011,\n",
    "                                      2012,\n",
    "                                      config.population.age_start,\n",
    "                                      config.population.age_end)\n",
    "\n",
    "simulation._data.write(\"cause.all_causes.cause_specific_mortality_rate\", asfr_data)"
   ]
  },
  {
   "cell_type": "code",
   "execution_count": null,
   "metadata": {},
   "outputs": [],
   "source": [
    "mortality_rate_df"
   ]
  },
  {
   "cell_type": "markdown",
   "metadata": {},
   "source": [
    "## Fertility rates\n"
   ]
  },
  {
   "cell_type": "code",
   "execution_count": null,
   "metadata": {},
   "outputs": [],
   "source": [
    "df = pd.read_csv(config.path_to_fertility_file)\n",
    "# to save time, only look at locatiosn existing on the test dataset.\n",
    "fertility_rate_df = df[(df['LAD.code']=='E09000002')]\n",
    "\n",
    "asfr_data_fertility = transform_rate_table(fertility_rate_df,\n",
    "                                      2011,\n",
    "                                      2012,\n",
    "                                      10,  # starting age for fertility\n",
    "                                      50,  # finishing age for fertility\n",
    "                                      [2]) # gender (only females [2])\n",
    "\n",
    "\n",
    "simulation._data.write(\"covariate.age_specific_fertility_rate.estimate\", asfr_data_fertility)\n"
   ]
  },
  {
   "cell_type": "code",
   "execution_count": null,
   "metadata": {},
   "outputs": [],
   "source": [
    "asfr_data_fertility.head()"
   ]
  },
  {
   "cell_type": "code",
   "execution_count": null,
   "metadata": {},
   "outputs": [],
   "source": [
    "fertility_rate_df"
   ]
  },
  {
   "cell_type": "code",
   "execution_count": null,
   "metadata": {},
   "outputs": [],
   "source": [
    "simulation.name"
   ]
  },
  {
   "cell_type": "markdown",
   "metadata": {},
   "source": [
    "## Emigration"
   ]
  },
  {
   "cell_type": "code",
   "execution_count": null,
   "metadata": {},
   "outputs": [],
   "source": [
    "# setup emigration rates\n",
    "df_emigration = pd.read_csv(config.path_to_emigration_file)\n",
    "df_total_population = pd.read_csv(config.path_to_total_population_file)\n",
    "\n",
    "df_emigration = df_emigration[\n",
    "    (df_emigration['LAD.code'] == 'E09000002')]\n",
    "df_total_population = df_total_population[\n",
    "    (df_total_population['LAD'] == 'E09000002')]\n",
    "\n",
    "asfr_data_emigration = compute_migration_rates(df_emigration, df_total_population, \n",
    "                                               2011, \n",
    "                                               2012, \n",
    "                                               config.population.age_start, \n",
    "                                               config.population.age_end)"
   ]
  },
  {
   "cell_type": "code",
   "execution_count": null,
   "metadata": {},
   "outputs": [],
   "source": [
    "asfr_data_emigration.head()"
   ]
  },
  {
   "cell_type": "code",
   "execution_count": null,
   "metadata": {},
   "outputs": [],
   "source": [
    "# Population (total)\n",
    "plt.figure(figsize=(15, 10))\n",
    "plt.plot(asfr_data_emigration[\"age_start\"], \n",
    "         asfr_data_emigration[\"mean_value\"], \n",
    "         '.', c='k', lw=4, markersize=12)\n",
    "plt.xlabel(\"Age\", size=32)\n",
    "plt.ylabel(\"Emigration rate\", size=32)\n",
    "plt.xticks(size=24, rotation=90)\n",
    "plt.yticks(size=24)\n",
    "plt.grid()\n",
    "plt.show()"
   ]
  },
  {
   "cell_type": "code",
   "execution_count": null,
   "metadata": {},
   "outputs": [],
   "source": [
    "simulation._data.write(\"covariate.age_specific_migration_rate.estimate\", asfr_data_emigration)"
   ]
  },
  {
   "cell_type": "markdown",
   "metadata": {},
   "source": [
    "## Immigration rates"
   ]
  },
  {
   "cell_type": "code",
   "execution_count": null,
   "metadata": {},
   "outputs": [],
   "source": [
    "# setup immigration rates\n",
    "df_immigration = pd.read_csv(config.path_to_immigration_file)\n",
    "\n",
    "df_immigration = df_immigration[\n",
    "    (df_immigration['LAD.code'] == 'E09000002')]\n",
    "\n",
    "asfr_data_immigration = compute_migration_rates(df_immigration, df_total_population, \n",
    "                                                2011, \n",
    "                                                2012, \n",
    "                                                config.population.age_start, \n",
    "                                                config.population.age_end,\n",
    "                                                normalize=False\n",
    "                                               )"
   ]
  },
  {
   "cell_type": "code",
   "execution_count": null,
   "metadata": {},
   "outputs": [],
   "source": [
    "# TESTING\n",
    "# asfr_data_immigration.loc[asfr_data_immigration[\"age_start\"] > 80, \"mean_value\"] = 100\n",
    "asfr_data_immigration[\"mean_value\"].describe()"
   ]
  },
  {
   "cell_type": "code",
   "execution_count": null,
   "metadata": {},
   "outputs": [],
   "source": [
    "# XXX CHECK!!!\n",
    "total_immigrants = df_immigration[df_immigration.columns[4:]].sum().sum()"
   ]
  },
  {
   "cell_type": "code",
   "execution_count": null,
   "metadata": {},
   "outputs": [],
   "source": [
    "# Population (total)\n",
    "plt.figure(figsize=(15, 10))\n",
    "plt.plot(asfr_data_immigration[\"age_start\"], \n",
    "         asfr_data_immigration[\"mean_value\"], \n",
    "         '.', c='k', lw=4, markersize=12)\n",
    "plt.xlabel(\"Age\", size=32)\n",
    "plt.ylabel(\"Immigration rate\", size=32)\n",
    "plt.xticks(size=24, rotation=90)\n",
    "plt.yticks(size=24)\n",
    "plt.grid()\n",
    "plt.show()"
   ]
  },
  {
   "cell_type": "code",
   "execution_count": null,
   "metadata": {},
   "outputs": [],
   "source": [
    "simulation._data.write(\"cause.all_causes.cause_specific_immigration_rate\", asfr_data_immigration)\n",
    "simulation._data.write(\"cause.all_causes.cause_specific_total_immigrants_per_year\", total_immigrants)"
   ]
  },
  {
   "cell_type": "markdown",
   "metadata": {},
   "source": [
    "## Setup a simulation and run for `num_days`"
   ]
  },
  {
   "cell_type": "code",
   "execution_count": null,
   "metadata": {
    "scrolled": false
   },
   "outputs": [],
   "source": [
    "sim_start = time.time()\n",
    "\n",
    "simulation.setup()\n",
    "num_days = 365*5 + 10\n",
    "simulation.run_for(duration=pd.Timedelta(days=num_days))\n",
    "\n",
    "\n",
    "\n",
    "sim_end = time.time()"
   ]
  },
  {
   "cell_type": "code",
   "execution_count": null,
   "metadata": {},
   "outputs": [],
   "source": [
    "pop = simulation.get_population()\n",
    "\n",
    "print(f\"Total time: {sim_end - sim_start}\")\n",
    "print (f'#alive: {len(pop[pop[\"alive\"]==\"alive\"])}')\n",
    "print (f'#dead: {len(pop[pop[\"alive\"]!=\"alive\"])}')\n",
    "try:\n",
    "    print (f'#new borns: {len(pop[pop[\"parent_id\"]!=-1])}')\n",
    "except Exception:\n",
    "    print(\"Fertility component should be activated to print new borns!\")"
   ]
  },
  {
   "cell_type": "code",
   "execution_count": null,
   "metadata": {},
   "outputs": [],
   "source": [
    "pop[\"cause_of_death\"].value_counts()"
   ]
  },
  {
   "cell_type": "code",
   "execution_count": null,
   "metadata": {},
   "outputs": [],
   "source": [
    "pop[pop[\"cause_of_death\"] == \"all_causes\"].head()"
   ]
  },
  {
   "cell_type": "markdown",
   "metadata": {},
   "source": [
    "## Plot results"
   ]
  },
  {
   "cell_type": "code",
   "execution_count": null,
   "metadata": {},
   "outputs": [],
   "source": [
    "#min_time = pop[\"entrance_time\"].min().strftime(\"%Y-%m-%d\")\n",
    "min_time = \"2011-01-01\"\n",
    "max_time = datetime.datetime.strptime(\"2012-01-01\", \"%Y-%m-%d\")\n",
    "\n",
    "print(\"min_time:\", min_time)\n",
    "print(\"max_time:\", max_time)"
   ]
  },
  {
   "cell_type": "code",
   "execution_count": null,
   "metadata": {},
   "outputs": [],
   "source": [
    "# --- input\n",
    "# intervals for plotting (in days)\n",
    "interval_in_days = 10\n",
    "# list of ethnicities\n",
    "sel_ethnicity = [\"WBI\", \"WHO\"]\n",
    "\n",
    "time_axis = []\n",
    "population_axis = []\n",
    "population_ETH_axis = []\n",
    "population_M_axis = []\n",
    "population_F_axis = []\n",
    "\n",
    "curr_time = datetime.datetime.strptime(min_time, \"%Y-%m-%d\")\n",
    "while curr_time <= max_time:\n",
    "    time_axis.append(curr_time)\n",
    "    \n",
    "    # dead population until current time (changes in the while loop)\n",
    "    pop_dead = pop[pop[\"exit_time\"] <= curr_time.strftime(\"%Y-%m-%d\")]\n",
    "    curr_pop = pop[pop[\"entrance_time\"] <= curr_time.strftime(\"%Y-%m-%d\")]\n",
    "    \n",
    "    current_alive_population = len(curr_pop) - len(pop_dead)\n",
    "    population_axis.append(current_alive_population)\n",
    "    \n",
    "    curr_pop_eth = len(curr_pop[curr_pop[\"ethnicity\"].isin(sel_ethnicity)])\n",
    "    current_alive_population_eth = curr_pop_eth - len(pop_dead[pop_dead[\"ethnicity\"].isin(sel_ethnicity)])\n",
    "    population_ETH_axis.append(current_alive_population_eth)\n",
    "    \n",
    "    curr_pop_male = len(curr_pop[curr_pop[\"sex\"] == 1])\n",
    "    current_alive_population_male = curr_pop_male - len(pop_dead[pop_dead[\"sex\"] == 1])\n",
    "    population_M_axis.append(current_alive_population_male)\n",
    "    \n",
    "    curr_pop_female = len(curr_pop[curr_pop[\"sex\"] == 1])\n",
    "    current_alive_population_female = curr_pop_female - len(pop_dead[pop_dead[\"sex\"] == 2])\n",
    "    population_F_axis.append(current_alive_population_female)\n",
    "    \n",
    "    # go to next time, according to the selected interval_in_days\n",
    "    curr_time = datetime.datetime.strptime(curr_time.strftime(\"%Y-%m-%d\"), \"%Y-%m-%d\")\n",
    "    curr_time += datetime.timedelta(days=interval_in_days)"
   ]
  },
  {
   "cell_type": "code",
   "execution_count": null,
   "metadata": {},
   "outputs": [],
   "source": [
    "from pandas.plotting import register_matplotlib_converters\n",
    "register_matplotlib_converters()"
   ]
  },
  {
   "cell_type": "code",
   "execution_count": null,
   "metadata": {},
   "outputs": [],
   "source": [
    "# Population (total)\n",
    "plt.figure(figsize=(15, 10))\n",
    "plt.plot(time_axis, population_axis, \n",
    "         c='k', lw=4, marker=\"o\")\n",
    "plt.xlabel(\"Time\", size=32)\n",
    "plt.ylabel(\"Population\", size=32)\n",
    "plt.xticks(size=24, rotation=90)\n",
    "plt.yticks(size=24)\n",
    "plt.grid()\n",
    "plt.show()"
   ]
  },
  {
   "cell_type": "code",
   "execution_count": null,
   "metadata": {},
   "outputs": [],
   "source": [
    "# Population (gender)\n",
    "plt.figure(figsize=(15, 10))\n",
    "plt.plot(time_axis, population_M_axis, \n",
    "         c='k', lw=4, marker=\"o\", \n",
    "         label=\"Male\"\n",
    "        )\n",
    "plt.plot(time_axis, population_F_axis, \n",
    "         c='r', lw=4, marker=\"o\",\n",
    "         label=\"Female\"\n",
    "        )\n",
    "plt.xlabel(\"Time\", size=32)\n",
    "plt.ylabel(\"Population\", size=32)\n",
    "plt.xticks(size=24, rotation=90)\n",
    "plt.yticks(size=24)\n",
    "plt.grid()\n",
    "plt.legend(fontsize=24)\n",
    "plt.show()"
   ]
  },
  {
   "cell_type": "code",
   "execution_count": null,
   "metadata": {},
   "outputs": [],
   "source": [
    "# Population (ethnicity)\n",
    "plt.figure(figsize=(15, 10))\n",
    "plt.plot(time_axis, population_ETH_axis, \n",
    "         c='k', lw=4, marker=\"o\", \n",
    "         label=sel_ethnicity\n",
    "        )\n",
    "plt.xlabel(\"Time\", size=32)\n",
    "plt.ylabel(\"Population\", size=32)\n",
    "plt.xticks(size=24, rotation=90)\n",
    "plt.yticks(size=24)\n",
    "plt.grid()\n",
    "plt.legend(fontsize=24)\n",
    "plt.show()"
   ]
  },
  {
   "cell_type": "markdown",
   "metadata": {},
   "source": [
    "## Histograms"
   ]
  },
  {
   "cell_type": "code",
   "execution_count": null,
   "metadata": {},
   "outputs": [],
   "source": [
    "# only immigrants\n",
    "pop_immig = pop[pop[\"entrance_time\"] > curr_time.strftime(\"2011-01-01\")]\n",
    "#pop_immig = pop_immig[pop_immig[\"parent_id\"] == -1]"
   ]
  },
  {
   "cell_type": "code",
   "execution_count": null,
   "metadata": {},
   "outputs": [],
   "source": [
    "pop[\"ethnicity\"].value_counts()"
   ]
  },
  {
   "cell_type": "code",
   "execution_count": null,
   "metadata": {},
   "outputs": [],
   "source": [
    "pop_immig['ethnicity'].value_counts()"
   ]
  },
  {
   "cell_type": "code",
   "execution_count": null,
   "metadata": {},
   "outputs": [],
   "source": [
    "series2plot = pop_immig['ethnicity'].value_counts() / pop[\"ethnicity\"].value_counts() * 100.\n",
    "indx = range(len(series2plot))\n",
    "\n",
    "plt.figure(figsize=(15, 10))\n",
    "plt.bar(indx, series2plot, color='k')\n",
    "\n",
    "plt.xticks(indx, series2plot.index, size=24)\n",
    "plt.yticks(size=24)\n",
    "plt.xlabel(\"Ethnicity\", size=32)\n",
    "plt.ylabel(\"% of group population\", size=32)\n",
    "\n",
    "plt.grid()\n",
    "#plt.legend(fontsize=24)\n",
    "plt.show()"
   ]
  },
  {
   "cell_type": "code",
   "execution_count": null,
   "metadata": {},
   "outputs": [],
   "source": [
    "series2plot = pop_immig['ethnicity'].value_counts() / len(pop_immig[\"ethnicity\"]) * 100.\n",
    "indx = range(len(series2plot))\n",
    "\n",
    "plt.figure(figsize=(15, 10))\n",
    "plt.bar(indx, series2plot, color='k')\n",
    "\n",
    "plt.xticks(indx, series2plot.index, size=24)\n",
    "plt.yticks(size=24)\n",
    "plt.xlabel(\"Ethnicity\", size=32)\n",
    "plt.ylabel(\"% of total population\", size=32)\n",
    "\n",
    "plt.grid()\n",
    "#plt.legend(fontsize=24)\n",
    "plt.show()"
   ]
  },
  {
   "cell_type": "code",
   "execution_count": null,
   "metadata": {},
   "outputs": [],
   "source": [
    "series2plot = pop_immig['sex'].value_counts() / len(pop_immig[\"sex\"]) * 100.\n",
    "indx = range(len(series2plot))\n",
    "\n",
    "plt.figure(figsize=(15, 10))\n",
    "plt.bar(indx, series2plot, color='k')\n",
    "\n",
    "plt.xticks(indx, series2plot.index, size=24)\n",
    "plt.yticks(size=24)\n",
    "plt.xlabel(\"Gender\", size=32)\n",
    "plt.ylabel(\"%\", size=32)\n",
    "\n",
    "plt.grid()\n",
    "#plt.legend(fontsize=24)\n",
    "plt.show()"
   ]
  },
  {
   "cell_type": "code",
   "execution_count": null,
   "metadata": {},
   "outputs": [],
   "source": [
    "plt.figure(figsize=(15, 10))\n",
    "\n",
    "pop_immig[\"entrance_time\"].hist(bins=int((365+10)/10), \n",
    "                           rwidth=0.9, \n",
    "                           color='k',\n",
    "                           align='left'\n",
    "                          )\n",
    "plt.xlabel(\"Time\", size=32)\n",
    "plt.ylabel(\"Immigration\", size=32)\n",
    "plt.xticks(size=24, rotation=90)\n",
    "plt.yticks(size=24)\n",
    "#plt.legend(fontsize=24)\n",
    "plt.show()"
   ]
  },
  {
   "cell_type": "code",
   "execution_count": null,
   "metadata": {},
   "outputs": [],
   "source": [
    "pop"
   ]
  }
 ],
 "metadata": {
  "kernelspec": {
   "display_name": "Python 3",
   "language": "python",
   "name": "python3"
  },
  "language_info": {
   "codemirror_mode": {
    "name": "ipython",
    "version": 3
   },
   "file_extension": ".py",
   "mimetype": "text/x-python",
   "name": "python",
   "nbconvert_exporter": "python",
   "pygments_lexer": "ipython3",
   "version": "3.7.6"
  }
 },
 "nbformat": 4,
 "nbformat_minor": 4
}
