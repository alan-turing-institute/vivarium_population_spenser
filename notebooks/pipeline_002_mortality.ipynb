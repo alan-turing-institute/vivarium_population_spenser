{
 "cells": [
  {
   "cell_type": "markdown",
   "metadata": {},
   "source": [
    "# Pipeline example, mortality\n",
    "\n",
    "This notebook uses the same demographic components as `pipeline_001_mortality`, and it runs five simulations in parallel using `multiprocessing`."
   ]
  },
  {
   "cell_type": "code",
   "execution_count": 1,
   "metadata": {},
   "outputs": [],
   "source": [
    "import datetime\n",
    "import matplotlib.pyplot as plt\n",
    "import multiprocessing\n",
    "import numpy as np\n",
    "import pandas as pd\n",
    "from pathlib import Path\n",
    "import time\n",
    "\n",
    "from vivarium import InteractiveContext\n",
    "from vivarium.framework.configuration import build_simulation_configuration\n",
    "from vivarium.config_tree import ConfigTree\n",
    "\n",
    "from vivarium_public_health.population import Mortality\n",
    "from vivarium_public_health.population.spenser_population import TestPopulation\n",
    "from vivarium_public_health.population.spenser_population import build_mortality_table\n",
    "from vivarium_public_health.population.spenser_population import transform_mortality_table\n",
    "from vivarium_public_health.population.spenser_population import prepare_dataset\n",
    "\n",
    "from vivarium_public_health.utilities import read_config_file"
   ]
  },
  {
   "cell_type": "markdown",
   "metadata": {},
   "source": [
    "## Base plugins for simulation"
   ]
  },
  {
   "cell_type": "code",
   "execution_count": 2,
   "metadata": {},
   "outputs": [],
   "source": [
    "def base_plugins_simulation():\n",
    "    config = {'required': {\n",
    "                  'data': {\n",
    "                      'controller': 'vivarium_public_health.testing.mock_artifact.MockArtifactManager',\n",
    "                      'builder_interface': 'vivarium.framework.artifact.ArtifactInterface'\n",
    "                  }\n",
    "             }\n",
    "    }\n",
    "\n",
    "    return ConfigTree(config)"
   ]
  },
  {
   "cell_type": "markdown",
   "metadata": {},
   "source": [
    "## Configure a simulation"
   ]
  },
  {
   "cell_type": "code",
   "execution_count": 3,
   "metadata": {},
   "outputs": [],
   "source": [
    "def config_simulation(inp_file):        \n",
    "    # ============= CONFIGURATION\n",
    "    if inp_file['configuration']['population']['population_size'] <= 0:\n",
    "        pop_size = len(pd.read_csv(inp_file['paths']['path_to_pop_file']))\n",
    "    else:\n",
    "        pop_size = inp_file['configuration']['population']['population_size']\n",
    "    \n",
    "    # config object\n",
    "    config = build_simulation_configuration()\n",
    "    config.update({\n",
    "        'time': {\n",
    "            'start': inp_file['configuration']['time']['start'],\n",
    "            'end': inp_file['configuration']['time']['end'],\n",
    "            'step_size': inp_file['configuration']['time']['step_size']\n",
    "        },\n",
    "        'randomness': inp_file['configuration']['randomness'],\n",
    "        'input_data': inp_file['configuration']['input_data'],\n",
    "    }, \n",
    "        layer='model_override')\n",
    "    \n",
    "    config.update({\n",
    "        'path_to_pop_file': inp_file['paths']['path_to_pop_file'],\n",
    "        'path_to_mortality_file': inp_file['paths']['path_to_mortality_file'],\n",
    "        \n",
    "        'population': {\n",
    "            'population_size': pop_size,\n",
    "            'age_start': inp_file['configuration']['population']['age_start'],\n",
    "            'age_end': inp_file['configuration']['population']['age_end'],\n",
    "        },\n",
    "        },\n",
    "    )\n",
    "    return config"
   ]
  },
  {
   "cell_type": "markdown",
   "metadata": {},
   "source": [
    "## All steps required to do one simulation"
   ]
  },
  {
   "cell_type": "code",
   "execution_count": 4,
   "metadata": {},
   "outputs": [],
   "source": [
    "def run_simulation(mortality_multiply=1.):\n",
    "    inp_file = read_config_file(\"../config/model_specification.yaml\")\n",
    "\n",
    "    base_plugins = base_plugins_simulation()\n",
    "    config = config_simulation(inp_file=inp_file)\n",
    "    components = [eval(x) for x in inp_file[\"list_components\"]]\n",
    "    simulation = InteractiveContext(components=components,\n",
    "                                    configuration=config,\n",
    "                                    plugin_configuration=base_plugins,\n",
    "                                    setup=False)\n",
    "\n",
    "    df = pd.read_csv(config.path_to_mortality_file)\n",
    "    # to save time, only look at locatiosn existing on the test dataset.\n",
    "    mortality_rate_df = df[(df['LAD.code']=='E08000032')]\n",
    "\n",
    "    asfr_data = transform_mortality_table(mortality_rate_df,\n",
    "                                          2011,\n",
    "                                          2012,\n",
    "                                          config.population.age_start,\n",
    "                                          config.population.age_end)\n",
    "    \n",
    "    asfr_data[\"mean_value\"] *= mortality_multiply\n",
    "    simulation._data.write(\"cause.all_causes.cause_specific_mortality_rate\", asfr_data)\n",
    "    print(f\"Simulation set up -- {multiprocessing.current_process().name}\")\n",
    "    simulation.setup()\n",
    "    num_days = 365*2 + 10\n",
    "    simulation.run_for(duration=pd.Timedelta(days=num_days))\n",
    "    pop = simulation.get_population()\n",
    "    return pop"
   ]
  },
  {
   "cell_type": "code",
   "execution_count": 5,
   "metadata": {},
   "outputs": [
    {
     "name": "stdout",
     "output_type": "stream",
     "text": [
      "\n",
      "\n",
      "WARNING: BLO ethnicity is removed from the dataset\n",
      "\n",
      "Write the dataset at: ../persistant_data/test_ssm_E08000032_MSOA11_ppp_2011.csv\n"
     ]
    }
   ],
   "source": [
    "# Prepare the data only once\n",
    "inp_file = read_config_file(\"../config/model_specification.yaml\")\n",
    "\n",
    "if inp_file['prepare_data']['prepare']:\n",
    "    # read a dataset (normally from daedalus), change columns to be readable by vivarium\n",
    "    # this function creates a file saved at output_path\n",
    "    prepare_dataset(\n",
    "        dataset_path=inp_file['prepare_data']['path_to_dataset'], \n",
    "        output_path=inp_file['prepare_data']['path_to_output'],\n",
    "        lookup_ethnicity=inp_file['prepare_data']['path_to_lookup_ethnicity'],\n",
    "        columns_map=inp_file['prepare_data']['columns_map'],\n",
    "        location_code=inp_file['prepare_data']['location_code']\n",
    "        )"
   ]
  },
  {
   "cell_type": "markdown",
   "metadata": {},
   "source": [
    "## Simulations\n",
    "\n",
    "Five simulations are defined by `mortality_multiply_list = [0.5, 0.8, 1, 1.2, 2]` (next cell). In this example, all the input mortality rates are multiplied by 0.5, 0.8, 1, 1.2 and 2, respectively. "
   ]
  },
  {
   "cell_type": "code",
   "execution_count": 6,
   "metadata": {
    "scrolled": true
   },
   "outputs": [
    {
     "name": "stdout",
     "output_type": "stream",
     "text": [
      "Simulation set up -- ForkPoolWorker-5\n"
     ]
    },
    {
     "name": "stderr",
     "output_type": "stream",
     "text": [
      "2020-07-01 09:57:09.549 | DEBUG    | vivarium.framework.values:register_value_modifier:373 - Registering metrics.1.population_manager.metrics as modifier to metrics\n"
     ]
    },
    {
     "name": "stdout",
     "output_type": "stream",
     "text": [
      "Simulation set up -- ForkPoolWorker-3\n"
     ]
    },
    {
     "name": "stderr",
     "output_type": "stream",
     "text": [
      "2020-07-01 09:57:09.588 | DEBUG    | vivarium.framework.values:register_value_modifier:373 - Registering metrics.1.population_manager.metrics as modifier to metrics\n"
     ]
    },
    {
     "name": "stdout",
     "output_type": "stream",
     "text": [
      "Simulation set up -- ForkPoolWorker-4\n"
     ]
    },
    {
     "name": "stderr",
     "output_type": "stream",
     "text": [
      "2020-07-01 09:57:09.602 | DEBUG    | vivarium.framework.values:register_value_modifier:373 - Registering metrics.1.population_manager.metrics as modifier to metrics\n"
     ]
    },
    {
     "name": "stdout",
     "output_type": "stream",
     "text": [
      "Simulation set up -- ForkPoolWorker-2\n"
     ]
    },
    {
     "name": "stderr",
     "output_type": "stream",
     "text": [
      "2020-07-01 09:57:09.623 | DEBUG    | vivarium.framework.values:register_value_modifier:373 - Registering metrics.1.population_manager.metrics as modifier to metrics\n"
     ]
    },
    {
     "name": "stdout",
     "output_type": "stream",
     "text": [
      "Simulation set up -- ForkPoolWorker-1\n"
     ]
    },
    {
     "name": "stderr",
     "output_type": "stream",
     "text": [
      "2020-07-01 09:57:09.640 | DEBUG    | vivarium.framework.values:register_value_modifier:373 - Registering metrics.1.population_manager.metrics as modifier to metrics\n",
      "2020-07-01 09:57:14.257 | DEBUG    | vivarium.framework.values:_register_value_producer:323 - Registering value pipeline mortality_rate\n",
      "2020-07-01 09:57:14.261 | DEBUG    | vivarium.framework.values:_register_value_producer:323 - Registering value pipeline metrics\n",
      "2020-07-01 09:57:14.363 | DEBUG    | vivarium.framework.values:_register_value_producer:323 - Registering value pipeline mortality_rate\n",
      "2020-07-01 09:57:14.368 | DEBUG    | vivarium.framework.values:_register_value_producer:323 - Registering value pipeline metrics\n",
      "2020-07-01 09:57:14.472 | DEBUG    | vivarium.framework.values:_register_value_producer:323 - Registering value pipeline mortality_rate\n",
      "2020-07-01 09:57:14.475 | DEBUG    | vivarium.framework.values:_register_value_producer:323 - Registering value pipeline mortality_rate\n",
      "2020-07-01 09:57:14.477 | DEBUG    | vivarium.framework.values:_register_value_producer:323 - Registering value pipeline metrics\n",
      "2020-07-01 09:57:14.480 | DEBUG    | vivarium.framework.values:_register_value_producer:323 - Registering value pipeline metrics\n",
      "2020-07-01 09:57:14.506 | DEBUG    | vivarium.framework.values:_register_value_producer:323 - Registering value pipeline mortality_rate\n",
      "2020-07-01 09:57:14.511 | DEBUG    | vivarium.framework.values:_register_value_producer:323 - Registering value pipeline metrics\n"
     ]
    },
    {
     "data": {
      "application/vnd.jupyter.widget-view+json": {
       "model_id": "950d29277ebf4f428ab21b51c2696dfc",
       "version_major": 2,
       "version_minor": 0
      },
      "text/plain": [
       "VBox(children=(HTML(value=''), IntProgress(value=0, max=74)))"
      ]
     },
     "metadata": {},
     "output_type": "display_data"
    },
    {
     "name": "stderr",
     "output_type": "stream",
     "text": [
      "2020-07-01 09:58:33.731 | DEBUG    | vivarium.framework.engine:step:140 - 2011-01-01 00:00:00\n",
      "2020-07-01 09:58:36.357 | DEBUG    | vivarium.framework.engine:step:140 - 2011-01-11 00:00:00\n"
     ]
    },
    {
     "data": {
      "application/vnd.jupyter.widget-view+json": {
       "model_id": "fe0df04f1cec4f068990821715ab3596",
       "version_major": 2,
       "version_minor": 0
      },
      "text/plain": [
       "VBox(children=(HTML(value=''), IntProgress(value=0, max=74)))"
      ]
     },
     "metadata": {},
     "output_type": "display_data"
    },
    {
     "name": "stderr",
     "output_type": "stream",
     "text": [
      "2020-07-01 09:58:37.469 | DEBUG    | vivarium.framework.engine:step:140 - 2011-01-01 00:00:00\n"
     ]
    },
    {
     "data": {
      "application/vnd.jupyter.widget-view+json": {
       "model_id": "965c9d769ad049e9a7d96fc0778f9441",
       "version_major": 2,
       "version_minor": 0
      },
      "text/plain": [
       "VBox(children=(HTML(value=''), IntProgress(value=0, max=74)))"
      ]
     },
     "metadata": {},
     "output_type": "display_data"
    },
    {
     "name": "stderr",
     "output_type": "stream",
     "text": [
      "2020-07-01 09:58:37.804 | DEBUG    | vivarium.framework.engine:step:140 - 2011-01-01 00:00:00\n"
     ]
    },
    {
     "data": {
      "application/vnd.jupyter.widget-view+json": {
       "model_id": "8bcbf9e7a8ed4b14a6e8ceb99f544169",
       "version_major": 2,
       "version_minor": 0
      },
      "text/plain": [
       "VBox(children=(HTML(value=''), IntProgress(value=0, max=74)))"
      ]
     },
     "metadata": {},
     "output_type": "display_data"
    },
    {
     "name": "stderr",
     "output_type": "stream",
     "text": [
      "2020-07-01 09:58:38.157 | DEBUG    | vivarium.framework.engine:step:140 - 2011-01-01 00:00:00\n"
     ]
    },
    {
     "data": {
      "application/vnd.jupyter.widget-view+json": {
       "model_id": "b586ec43383d473794be34effb220ccd",
       "version_major": 2,
       "version_minor": 0
      },
      "text/plain": [
       "VBox(children=(HTML(value=''), IntProgress(value=0, max=74)))"
      ]
     },
     "metadata": {},
     "output_type": "display_data"
    },
    {
     "name": "stderr",
     "output_type": "stream",
     "text": [
      "2020-07-01 09:58:38.179 | DEBUG    | vivarium.framework.engine:step:140 - 2011-01-01 00:00:00\n",
      "2020-07-01 09:58:38.383 | DEBUG    | vivarium.framework.engine:step:140 - 2011-01-21 00:00:00\n",
      "2020-07-01 09:58:39.406 | DEBUG    | vivarium.framework.engine:step:140 - 2011-01-11 00:00:00\n",
      "2020-07-01 09:58:39.727 | DEBUG    | vivarium.framework.engine:step:140 - 2011-01-11 00:00:00\n",
      "2020-07-01 09:58:40.061 | DEBUG    | vivarium.framework.engine:step:140 - 2011-01-11 00:00:00\n",
      "2020-07-01 09:58:40.069 | DEBUG    | vivarium.framework.engine:step:140 - 2011-01-11 00:00:00\n",
      "2020-07-01 09:58:40.282 | DEBUG    | vivarium.framework.engine:step:140 - 2011-01-31 00:00:00\n",
      "2020-07-01 09:58:41.271 | DEBUG    | vivarium.framework.engine:step:140 - 2011-01-21 00:00:00\n",
      "2020-07-01 09:58:41.714 | DEBUG    | vivarium.framework.engine:step:140 - 2011-01-21 00:00:00\n",
      "2020-07-01 09:58:42.030 | DEBUG    | vivarium.framework.engine:step:140 - 2011-01-21 00:00:00\n",
      "2020-07-01 09:58:42.038 | DEBUG    | vivarium.framework.engine:step:140 - 2011-01-21 00:00:00\n",
      "2020-07-01 09:58:42.274 | DEBUG    | vivarium.framework.engine:step:140 - 2011-02-10 00:00:00\n",
      "2020-07-01 09:58:43.208 | DEBUG    | vivarium.framework.engine:step:140 - 2011-01-31 00:00:00\n",
      "2020-07-01 09:58:43.568 | DEBUG    | vivarium.framework.engine:step:140 - 2011-01-31 00:00:00\n",
      "2020-07-01 09:58:43.973 | DEBUG    | vivarium.framework.engine:step:140 - 2011-01-31 00:00:00\n",
      "2020-07-01 09:58:43.984 | DEBUG    | vivarium.framework.engine:step:140 - 2011-01-31 00:00:00\n",
      "2020-07-01 09:58:44.188 | DEBUG    | vivarium.framework.engine:step:140 - 2011-02-20 00:00:00\n",
      "2020-07-01 09:58:45.121 | DEBUG    | vivarium.framework.engine:step:140 - 2011-02-10 00:00:00\n",
      "2020-07-01 09:58:45.434 | DEBUG    | vivarium.framework.engine:step:140 - 2011-02-10 00:00:00\n",
      "2020-07-01 09:58:45.778 | DEBUG    | vivarium.framework.engine:step:140 - 2011-02-10 00:00:00\n",
      "2020-07-01 09:58:45.815 | DEBUG    | vivarium.framework.engine:step:140 - 2011-02-10 00:00:00\n",
      "2020-07-01 09:58:45.996 | DEBUG    | vivarium.framework.engine:step:140 - 2011-03-02 00:00:00\n",
      "2020-07-01 09:58:46.878 | DEBUG    | vivarium.framework.engine:step:140 - 2011-02-20 00:00:00\n",
      "2020-07-01 09:58:47.225 | DEBUG    | vivarium.framework.engine:step:140 - 2011-02-20 00:00:00\n",
      "2020-07-01 09:58:47.559 | DEBUG    | vivarium.framework.engine:step:140 - 2011-02-20 00:00:00\n",
      "2020-07-01 09:58:47.597 | DEBUG    | vivarium.framework.engine:step:140 - 2011-02-20 00:00:00\n",
      "2020-07-01 09:58:47.820 | DEBUG    | vivarium.framework.engine:step:140 - 2011-03-12 00:00:00\n",
      "2020-07-01 09:58:48.817 | DEBUG    | vivarium.framework.engine:step:140 - 2011-03-02 00:00:00\n",
      "2020-07-01 09:58:49.348 | DEBUG    | vivarium.framework.engine:step:140 - 2011-03-02 00:00:00\n",
      "2020-07-01 09:58:49.816 | DEBUG    | vivarium.framework.engine:step:140 - 2011-03-02 00:00:00\n",
      "2020-07-01 09:58:49.856 | DEBUG    | vivarium.framework.engine:step:140 - 2011-03-02 00:00:00\n",
      "2020-07-01 09:58:50.149 | DEBUG    | vivarium.framework.engine:step:140 - 2011-03-22 00:00:00\n",
      "2020-07-01 09:58:51.054 | DEBUG    | vivarium.framework.engine:step:140 - 2011-03-12 00:00:00\n",
      "2020-07-01 09:58:51.658 | DEBUG    | vivarium.framework.engine:step:140 - 2011-03-12 00:00:00\n",
      "2020-07-01 09:58:52.108 | DEBUG    | vivarium.framework.engine:step:140 - 2011-03-12 00:00:00\n",
      "2020-07-01 09:58:52.123 | DEBUG    | vivarium.framework.engine:step:140 - 2011-03-12 00:00:00\n",
      "2020-07-01 09:58:52.395 | DEBUG    | vivarium.framework.engine:step:140 - 2011-04-01 00:00:00\n",
      "2020-07-01 09:58:53.162 | DEBUG    | vivarium.framework.engine:step:140 - 2011-03-22 00:00:00\n",
      "2020-07-01 09:58:53.753 | DEBUG    | vivarium.framework.engine:step:140 - 2011-03-22 00:00:00\n",
      "2020-07-01 09:58:54.221 | DEBUG    | vivarium.framework.engine:step:140 - 2011-03-22 00:00:00\n",
      "2020-07-01 09:58:54.249 | DEBUG    | vivarium.framework.engine:step:140 - 2011-03-22 00:00:00\n",
      "2020-07-01 09:58:54.510 | DEBUG    | vivarium.framework.engine:step:140 - 2011-04-11 00:00:00\n",
      "2020-07-01 09:58:55.336 | DEBUG    | vivarium.framework.engine:step:140 - 2011-04-01 00:00:00\n",
      "2020-07-01 09:58:55.872 | DEBUG    | vivarium.framework.engine:step:140 - 2011-04-01 00:00:00\n",
      "2020-07-01 09:58:56.357 | DEBUG    | vivarium.framework.engine:step:140 - 2011-04-01 00:00:00\n",
      "2020-07-01 09:58:56.365 | DEBUG    | vivarium.framework.engine:step:140 - 2011-04-01 00:00:00\n",
      "2020-07-01 09:58:56.575 | DEBUG    | vivarium.framework.engine:step:140 - 2011-04-21 00:00:00\n",
      "2020-07-01 09:58:57.408 | DEBUG    | vivarium.framework.engine:step:140 - 2011-04-11 00:00:00\n",
      "2020-07-01 09:58:57.868 | DEBUG    | vivarium.framework.engine:step:140 - 2011-04-11 00:00:00\n",
      "2020-07-01 09:58:58.330 | DEBUG    | vivarium.framework.engine:step:140 - 2011-04-11 00:00:00\n",
      "2020-07-01 09:58:58.356 | DEBUG    | vivarium.framework.engine:step:140 - 2011-04-11 00:00:00\n",
      "2020-07-01 09:58:58.561 | DEBUG    | vivarium.framework.engine:step:140 - 2011-05-01 00:00:00\n",
      "2020-07-01 09:58:59.380 | DEBUG    | vivarium.framework.engine:step:140 - 2011-04-21 00:00:00\n",
      "2020-07-01 09:58:59.810 | DEBUG    | vivarium.framework.engine:step:140 - 2011-04-21 00:00:00\n",
      "2020-07-01 09:59:00.286 | DEBUG    | vivarium.framework.engine:step:140 - 2011-04-21 00:00:00\n",
      "2020-07-01 09:59:00.360 | DEBUG    | vivarium.framework.engine:step:140 - 2011-04-21 00:00:00\n",
      "2020-07-01 09:59:00.486 | DEBUG    | vivarium.framework.engine:step:140 - 2011-05-11 00:00:00\n",
      "2020-07-01 09:59:01.303 | DEBUG    | vivarium.framework.engine:step:140 - 2011-05-01 00:00:00\n",
      "2020-07-01 09:59:01.668 | DEBUG    | vivarium.framework.engine:step:140 - 2011-05-01 00:00:00\n",
      "2020-07-01 09:59:02.314 | DEBUG    | vivarium.framework.engine:step:140 - 2011-05-01 00:00:00\n",
      "2020-07-01 09:59:02.385 | DEBUG    | vivarium.framework.engine:step:140 - 2011-05-01 00:00:00\n",
      "2020-07-01 09:59:02.498 | DEBUG    | vivarium.framework.engine:step:140 - 2011-05-21 00:00:00\n",
      "2020-07-01 09:59:03.339 | DEBUG    | vivarium.framework.engine:step:140 - 2011-05-11 00:00:00\n",
      "2020-07-01 09:59:03.708 | DEBUG    | vivarium.framework.engine:step:140 - 2011-05-11 00:00:00\n",
      "2020-07-01 09:59:04.196 | DEBUG    | vivarium.framework.engine:step:140 - 2011-05-11 00:00:00\n",
      "2020-07-01 09:59:04.240 | DEBUG    | vivarium.framework.engine:step:140 - 2011-05-11 00:00:00\n",
      "2020-07-01 09:59:04.391 | DEBUG    | vivarium.framework.engine:step:140 - 2011-05-31 00:00:00\n",
      "2020-07-01 09:59:05.229 | DEBUG    | vivarium.framework.engine:step:140 - 2011-05-21 00:00:00\n",
      "2020-07-01 09:59:05.534 | DEBUG    | vivarium.framework.engine:step:140 - 2011-05-21 00:00:00\n",
      "2020-07-01 09:59:06.062 | DEBUG    | vivarium.framework.engine:step:140 - 2011-05-21 00:00:00\n",
      "2020-07-01 09:59:06.100 | DEBUG    | vivarium.framework.engine:step:140 - 2011-05-21 00:00:00\n",
      "2020-07-01 09:59:06.199 | DEBUG    | vivarium.framework.engine:step:140 - 2011-06-10 00:00:00\n",
      "2020-07-01 09:59:07.057 | DEBUG    | vivarium.framework.engine:step:140 - 2011-05-31 00:00:00\n",
      "2020-07-01 09:59:07.382 | DEBUG    | vivarium.framework.engine:step:140 - 2011-05-31 00:00:00\n",
      "2020-07-01 09:59:07.946 | DEBUG    | vivarium.framework.engine:step:140 - 2011-05-31 00:00:00\n",
      "2020-07-01 09:59:08.005 | DEBUG    | vivarium.framework.engine:step:140 - 2011-05-31 00:00:00\n",
      "2020-07-01 09:59:08.076 | DEBUG    | vivarium.framework.engine:step:140 - 2011-06-20 00:00:00\n",
      "2020-07-01 09:59:09.141 | DEBUG    | vivarium.framework.engine:step:140 - 2011-06-10 00:00:00\n",
      "2020-07-01 09:59:09.478 | DEBUG    | vivarium.framework.engine:step:140 - 2011-06-10 00:00:00\n",
      "2020-07-01 09:59:09.981 | DEBUG    | vivarium.framework.engine:step:140 - 2011-06-10 00:00:00\n",
      "2020-07-01 09:59:10.142 | DEBUG    | vivarium.framework.engine:step:140 - 2011-06-10 00:00:00\n",
      "2020-07-01 09:59:10.156 | DEBUG    | vivarium.framework.engine:step:140 - 2011-06-30 00:00:00\n",
      "2020-07-01 09:59:11.034 | DEBUG    | vivarium.framework.engine:step:140 - 2011-06-20 00:00:00\n",
      "2020-07-01 09:59:11.349 | DEBUG    | vivarium.framework.engine:step:140 - 2011-06-20 00:00:00\n",
      "2020-07-01 09:59:11.842 | DEBUG    | vivarium.framework.engine:step:140 - 2011-06-20 00:00:00\n",
      "2020-07-01 09:59:11.962 | DEBUG    | vivarium.framework.engine:step:140 - 2011-06-20 00:00:00\n",
      "2020-07-01 09:59:12.048 | DEBUG    | vivarium.framework.engine:step:140 - 2011-07-10 00:00:00\n",
      "2020-07-01 09:59:12.833 | DEBUG    | vivarium.framework.engine:step:140 - 2011-06-30 00:00:00\n"
     ]
    },
    {
     "name": "stderr",
     "output_type": "stream",
     "text": [
      "2020-07-01 09:59:13.142 | DEBUG    | vivarium.framework.engine:step:140 - 2011-06-30 00:00:00\n",
      "2020-07-01 09:59:13.679 | DEBUG    | vivarium.framework.engine:step:140 - 2011-06-30 00:00:00\n",
      "2020-07-01 09:59:13.797 | DEBUG    | vivarium.framework.engine:step:140 - 2011-06-30 00:00:00\n",
      "2020-07-01 09:59:13.867 | DEBUG    | vivarium.framework.engine:step:140 - 2011-07-20 00:00:00\n",
      "2020-07-01 09:59:14.629 | DEBUG    | vivarium.framework.engine:step:140 - 2011-07-10 00:00:00\n",
      "2020-07-01 09:59:14.957 | DEBUG    | vivarium.framework.engine:step:140 - 2011-07-10 00:00:00\n",
      "2020-07-01 09:59:15.623 | DEBUG    | vivarium.framework.engine:step:140 - 2011-07-10 00:00:00\n",
      "2020-07-01 09:59:15.746 | DEBUG    | vivarium.framework.engine:step:140 - 2011-07-10 00:00:00\n",
      "2020-07-01 09:59:15.801 | DEBUG    | vivarium.framework.engine:step:140 - 2011-07-30 00:00:00\n",
      "2020-07-01 09:59:16.572 | DEBUG    | vivarium.framework.engine:step:140 - 2011-07-20 00:00:00\n",
      "2020-07-01 09:59:16.881 | DEBUG    | vivarium.framework.engine:step:140 - 2011-07-20 00:00:00\n",
      "2020-07-01 09:59:17.448 | DEBUG    | vivarium.framework.engine:step:140 - 2011-07-20 00:00:00\n",
      "2020-07-01 09:59:17.562 | DEBUG    | vivarium.framework.engine:step:140 - 2011-07-20 00:00:00\n",
      "2020-07-01 09:59:17.610 | DEBUG    | vivarium.framework.engine:step:140 - 2011-08-09 00:00:00\n",
      "2020-07-01 09:59:18.398 | DEBUG    | vivarium.framework.engine:step:140 - 2011-07-30 00:00:00\n",
      "2020-07-01 09:59:18.719 | DEBUG    | vivarium.framework.engine:step:140 - 2011-07-30 00:00:00\n",
      "2020-07-01 09:59:19.324 | DEBUG    | vivarium.framework.engine:step:140 - 2011-07-30 00:00:00\n",
      "2020-07-01 09:59:19.390 | DEBUG    | vivarium.framework.engine:step:140 - 2011-07-30 00:00:00\n",
      "2020-07-01 09:59:19.426 | DEBUG    | vivarium.framework.engine:step:140 - 2011-08-19 00:00:00\n",
      "2020-07-01 09:59:20.244 | DEBUG    | vivarium.framework.engine:step:140 - 2011-08-09 00:00:00\n",
      "2020-07-01 09:59:20.535 | DEBUG    | vivarium.framework.engine:step:140 - 2011-08-09 00:00:00\n",
      "2020-07-01 09:59:21.215 | DEBUG    | vivarium.framework.engine:step:140 - 2011-08-09 00:00:00\n",
      "2020-07-01 09:59:21.364 | DEBUG    | vivarium.framework.engine:step:140 - 2011-08-09 00:00:00\n",
      "2020-07-01 09:59:21.363 | DEBUG    | vivarium.framework.engine:step:140 - 2011-08-29 00:00:00\n",
      "2020-07-01 09:59:22.241 | DEBUG    | vivarium.framework.engine:step:140 - 2011-08-19 00:00:00\n",
      "2020-07-01 09:59:22.532 | DEBUG    | vivarium.framework.engine:step:140 - 2011-08-19 00:00:00\n",
      "2020-07-01 09:59:23.171 | DEBUG    | vivarium.framework.engine:step:140 - 2011-08-19 00:00:00\n",
      "2020-07-01 09:59:23.262 | DEBUG    | vivarium.framework.engine:step:140 - 2011-08-19 00:00:00\n",
      "2020-07-01 09:59:23.326 | DEBUG    | vivarium.framework.engine:step:140 - 2011-09-08 00:00:00\n",
      "2020-07-01 09:59:24.105 | DEBUG    | vivarium.framework.engine:step:140 - 2011-08-29 00:00:00\n",
      "2020-07-01 09:59:24.489 | DEBUG    | vivarium.framework.engine:step:140 - 2011-08-29 00:00:00\n",
      "2020-07-01 09:59:25.139 | DEBUG    | vivarium.framework.engine:step:140 - 2011-08-29 00:00:00\n",
      "2020-07-01 09:59:25.290 | DEBUG    | vivarium.framework.engine:step:140 - 2011-08-29 00:00:00\n",
      "2020-07-01 09:59:25.429 | DEBUG    | vivarium.framework.engine:step:140 - 2011-09-18 00:00:00\n",
      "2020-07-01 09:59:26.214 | DEBUG    | vivarium.framework.engine:step:140 - 2011-09-08 00:00:00\n",
      "2020-07-01 09:59:26.578 | DEBUG    | vivarium.framework.engine:step:140 - 2011-09-08 00:00:00\n",
      "2020-07-01 09:59:27.168 | DEBUG    | vivarium.framework.engine:step:140 - 2011-09-08 00:00:00\n",
      "2020-07-01 09:59:27.315 | DEBUG    | vivarium.framework.engine:step:140 - 2011-09-08 00:00:00\n",
      "2020-07-01 09:59:27.383 | DEBUG    | vivarium.framework.engine:step:140 - 2011-09-28 00:00:00\n",
      "2020-07-01 09:59:28.083 | DEBUG    | vivarium.framework.engine:step:140 - 2011-09-18 00:00:00\n",
      "2020-07-01 09:59:28.433 | DEBUG    | vivarium.framework.engine:step:140 - 2011-09-18 00:00:00\n",
      "2020-07-01 09:59:29.007 | DEBUG    | vivarium.framework.engine:step:140 - 2011-09-18 00:00:00\n",
      "2020-07-01 09:59:29.145 | DEBUG    | vivarium.framework.engine:step:140 - 2011-09-18 00:00:00\n",
      "2020-07-01 09:59:29.231 | DEBUG    | vivarium.framework.engine:step:140 - 2011-10-08 00:00:00\n",
      "2020-07-01 09:59:29.978 | DEBUG    | vivarium.framework.engine:step:140 - 2011-09-28 00:00:00\n",
      "2020-07-01 09:59:30.349 | DEBUG    | vivarium.framework.engine:step:140 - 2011-09-28 00:00:00\n",
      "2020-07-01 09:59:30.861 | DEBUG    | vivarium.framework.engine:step:140 - 2011-09-28 00:00:00\n",
      "2020-07-01 09:59:31.041 | DEBUG    | vivarium.framework.engine:step:140 - 2011-09-28 00:00:00\n",
      "2020-07-01 09:59:31.109 | DEBUG    | vivarium.framework.engine:step:140 - 2011-10-18 00:00:00\n",
      "2020-07-01 09:59:31.756 | DEBUG    | vivarium.framework.engine:step:140 - 2011-10-08 00:00:00\n",
      "2020-07-01 09:59:32.144 | DEBUG    | vivarium.framework.engine:step:140 - 2011-10-08 00:00:00\n",
      "2020-07-01 09:59:32.656 | DEBUG    | vivarium.framework.engine:step:140 - 2011-10-08 00:00:00\n",
      "2020-07-01 09:59:32.744 | DEBUG    | vivarium.framework.engine:step:140 - 2011-10-08 00:00:00\n",
      "2020-07-01 09:59:32.799 | DEBUG    | vivarium.framework.engine:step:140 - 2011-10-28 00:00:00\n",
      "2020-07-01 09:59:33.531 | DEBUG    | vivarium.framework.engine:step:140 - 2011-10-18 00:00:00\n",
      "2020-07-01 09:59:33.913 | DEBUG    | vivarium.framework.engine:step:140 - 2011-10-18 00:00:00\n",
      "2020-07-01 09:59:34.465 | DEBUG    | vivarium.framework.engine:step:140 - 2011-10-18 00:00:00\n",
      "2020-07-01 09:59:34.521 | DEBUG    | vivarium.framework.engine:step:140 - 2011-10-18 00:00:00\n",
      "2020-07-01 09:59:34.630 | DEBUG    | vivarium.framework.engine:step:140 - 2011-11-07 00:00:00\n",
      "2020-07-01 09:59:35.360 | DEBUG    | vivarium.framework.engine:step:140 - 2011-10-28 00:00:00\n",
      "2020-07-01 09:59:35.699 | DEBUG    | vivarium.framework.engine:step:140 - 2011-10-28 00:00:00\n",
      "2020-07-01 09:59:36.248 | DEBUG    | vivarium.framework.engine:step:140 - 2011-10-28 00:00:00\n",
      "2020-07-01 09:59:36.322 | DEBUG    | vivarium.framework.engine:step:140 - 2011-10-28 00:00:00\n",
      "2020-07-01 09:59:36.376 | DEBUG    | vivarium.framework.engine:step:140 - 2011-11-17 00:00:00\n",
      "2020-07-01 09:59:37.137 | DEBUG    | vivarium.framework.engine:step:140 - 2011-11-07 00:00:00\n",
      "2020-07-01 09:59:37.455 | DEBUG    | vivarium.framework.engine:step:140 - 2011-11-07 00:00:00\n",
      "2020-07-01 09:59:38.005 | DEBUG    | vivarium.framework.engine:step:140 - 2011-11-07 00:00:00\n",
      "2020-07-01 09:59:38.078 | DEBUG    | vivarium.framework.engine:step:140 - 2011-11-27 00:00:00\n",
      "2020-07-01 09:59:38.116 | DEBUG    | vivarium.framework.engine:step:140 - 2011-11-07 00:00:00\n",
      "2020-07-01 09:59:38.844 | DEBUG    | vivarium.framework.engine:step:140 - 2011-11-17 00:00:00\n",
      "2020-07-01 09:59:39.205 | DEBUG    | vivarium.framework.engine:step:140 - 2011-11-17 00:00:00\n",
      "2020-07-01 09:59:39.785 | DEBUG    | vivarium.framework.engine:step:140 - 2011-11-17 00:00:00\n",
      "2020-07-01 09:59:39.798 | DEBUG    | vivarium.framework.engine:step:140 - 2011-12-07 00:00:00\n",
      "2020-07-01 09:59:39.890 | DEBUG    | vivarium.framework.engine:step:140 - 2011-11-17 00:00:00\n",
      "2020-07-01 09:59:40.633 | DEBUG    | vivarium.framework.engine:step:140 - 2011-11-27 00:00:00\n",
      "2020-07-01 09:59:40.948 | DEBUG    | vivarium.framework.engine:step:140 - 2011-11-27 00:00:00\n",
      "2020-07-01 09:59:41.510 | DEBUG    | vivarium.framework.engine:step:140 - 2011-11-27 00:00:00\n",
      "2020-07-01 09:59:41.603 | DEBUG    | vivarium.framework.engine:step:140 - 2011-11-27 00:00:00\n",
      "2020-07-01 09:59:41.620 | DEBUG    | vivarium.framework.engine:step:140 - 2011-12-17 00:00:00\n",
      "2020-07-01 09:59:42.393 | DEBUG    | vivarium.framework.engine:step:140 - 2011-12-07 00:00:00\n",
      "2020-07-01 09:59:42.693 | DEBUG    | vivarium.framework.engine:step:140 - 2011-12-07 00:00:00\n",
      "2020-07-01 09:59:43.293 | DEBUG    | vivarium.framework.engine:step:140 - 2011-12-07 00:00:00\n",
      "2020-07-01 09:59:43.351 | DEBUG    | vivarium.framework.engine:step:140 - 2011-12-27 00:00:00\n",
      "2020-07-01 09:59:43.373 | DEBUG    | vivarium.framework.engine:step:140 - 2011-12-07 00:00:00\n",
      "2020-07-01 09:59:44.172 | DEBUG    | vivarium.framework.engine:step:140 - 2011-12-17 00:00:00\n",
      "2020-07-01 09:59:44.406 | DEBUG    | vivarium.framework.engine:step:140 - 2011-12-17 00:00:00\n",
      "2020-07-01 09:59:45.054 | DEBUG    | vivarium.framework.engine:step:140 - 2012-01-06 00:00:00\n",
      "2020-07-01 09:59:45.064 | DEBUG    | vivarium.framework.engine:step:140 - 2011-12-17 00:00:00\n"
     ]
    },
    {
     "name": "stderr",
     "output_type": "stream",
     "text": [
      "2020-07-01 09:59:45.107 | DEBUG    | vivarium.framework.engine:step:140 - 2011-12-17 00:00:00\n",
      "2020-07-01 09:59:45.915 | DEBUG    | vivarium.framework.engine:step:140 - 2011-12-27 00:00:00\n",
      "2020-07-01 09:59:46.132 | DEBUG    | vivarium.framework.engine:step:140 - 2011-12-27 00:00:00\n",
      "2020-07-01 09:59:47.022 | DEBUG    | vivarium.framework.engine:step:140 - 2012-01-16 00:00:00\n",
      "2020-07-01 09:59:47.067 | DEBUG    | vivarium.framework.engine:step:140 - 2011-12-27 00:00:00\n",
      "2020-07-01 09:59:47.092 | DEBUG    | vivarium.framework.engine:step:140 - 2011-12-27 00:00:00\n",
      "2020-07-01 09:59:48.066 | DEBUG    | vivarium.framework.engine:step:140 - 2012-01-06 00:00:00\n",
      "2020-07-01 09:59:48.269 | DEBUG    | vivarium.framework.engine:step:140 - 2012-01-06 00:00:00\n",
      "2020-07-01 09:59:48.902 | DEBUG    | vivarium.framework.engine:step:140 - 2012-01-06 00:00:00\n",
      "2020-07-01 09:59:48.918 | DEBUG    | vivarium.framework.engine:step:140 - 2012-01-26 00:00:00\n",
      "2020-07-01 09:59:48.943 | DEBUG    | vivarium.framework.engine:step:140 - 2012-01-06 00:00:00\n",
      "2020-07-01 09:59:49.832 | DEBUG    | vivarium.framework.engine:step:140 - 2012-01-16 00:00:00\n",
      "2020-07-01 09:59:50.015 | DEBUG    | vivarium.framework.engine:step:140 - 2012-01-16 00:00:00\n",
      "2020-07-01 09:59:50.643 | DEBUG    | vivarium.framework.engine:step:140 - 2012-01-16 00:00:00\n",
      "2020-07-01 09:59:50.680 | DEBUG    | vivarium.framework.engine:step:140 - 2012-02-05 00:00:00\n",
      "2020-07-01 09:59:50.762 | DEBUG    | vivarium.framework.engine:step:140 - 2012-01-16 00:00:00\n",
      "2020-07-01 09:59:51.705 | DEBUG    | vivarium.framework.engine:step:140 - 2012-01-26 00:00:00\n",
      "2020-07-01 09:59:51.909 | DEBUG    | vivarium.framework.engine:step:140 - 2012-01-26 00:00:00\n",
      "2020-07-01 09:59:52.446 | DEBUG    | vivarium.framework.engine:step:140 - 2012-01-26 00:00:00\n",
      "2020-07-01 09:59:52.476 | DEBUG    | vivarium.framework.engine:step:140 - 2012-02-15 00:00:00\n",
      "2020-07-01 09:59:52.600 | DEBUG    | vivarium.framework.engine:step:140 - 2012-01-26 00:00:00\n",
      "2020-07-01 09:59:53.503 | DEBUG    | vivarium.framework.engine:step:140 - 2012-02-05 00:00:00\n",
      "2020-07-01 09:59:53.698 | DEBUG    | vivarium.framework.engine:step:140 - 2012-02-05 00:00:00\n",
      "2020-07-01 09:59:54.244 | DEBUG    | vivarium.framework.engine:step:140 - 2012-02-25 00:00:00\n",
      "2020-07-01 09:59:54.256 | DEBUG    | vivarium.framework.engine:step:140 - 2012-02-05 00:00:00\n",
      "2020-07-01 09:59:54.365 | DEBUG    | vivarium.framework.engine:step:140 - 2012-02-05 00:00:00\n",
      "2020-07-01 09:59:55.310 | DEBUG    | vivarium.framework.engine:step:140 - 2012-02-15 00:00:00\n",
      "2020-07-01 09:59:55.473 | DEBUG    | vivarium.framework.engine:step:140 - 2012-02-15 00:00:00\n",
      "2020-07-01 09:59:56.006 | DEBUG    | vivarium.framework.engine:step:140 - 2012-02-15 00:00:00\n",
      "2020-07-01 09:59:56.023 | DEBUG    | vivarium.framework.engine:step:140 - 2012-03-06 00:00:00\n",
      "2020-07-01 09:59:56.116 | DEBUG    | vivarium.framework.engine:step:140 - 2012-02-15 00:00:00\n",
      "2020-07-01 09:59:57.033 | DEBUG    | vivarium.framework.engine:step:140 - 2012-02-25 00:00:00\n",
      "2020-07-01 09:59:57.235 | DEBUG    | vivarium.framework.engine:step:140 - 2012-02-25 00:00:00\n",
      "2020-07-01 09:59:57.714 | DEBUG    | vivarium.framework.engine:step:140 - 2012-02-25 00:00:00\n",
      "2020-07-01 09:59:57.744 | DEBUG    | vivarium.framework.engine:step:140 - 2012-03-16 00:00:00\n",
      "2020-07-01 09:59:57.863 | DEBUG    | vivarium.framework.engine:step:140 - 2012-02-25 00:00:00\n",
      "2020-07-01 09:59:58.801 | DEBUG    | vivarium.framework.engine:step:140 - 2012-03-06 00:00:00\n",
      "2020-07-01 09:59:58.991 | DEBUG    | vivarium.framework.engine:step:140 - 2012-03-06 00:00:00\n",
      "2020-07-01 09:59:59.435 | DEBUG    | vivarium.framework.engine:step:140 - 2012-03-06 00:00:00\n",
      "2020-07-01 09:59:59.507 | DEBUG    | vivarium.framework.engine:step:140 - 2012-03-26 00:00:00\n",
      "2020-07-01 09:59:59.615 | DEBUG    | vivarium.framework.engine:step:140 - 2012-03-06 00:00:00\n",
      "2020-07-01 10:00:00.552 | DEBUG    | vivarium.framework.engine:step:140 - 2012-03-16 00:00:00\n",
      "2020-07-01 10:00:00.819 | DEBUG    | vivarium.framework.engine:step:140 - 2012-03-16 00:00:00\n",
      "2020-07-01 10:00:01.190 | DEBUG    | vivarium.framework.engine:step:140 - 2012-03-16 00:00:00\n",
      "2020-07-01 10:00:01.289 | DEBUG    | vivarium.framework.engine:step:140 - 2012-04-05 00:00:00\n",
      "2020-07-01 10:00:01.410 | DEBUG    | vivarium.framework.engine:step:140 - 2012-03-16 00:00:00\n",
      "2020-07-01 10:00:02.349 | DEBUG    | vivarium.framework.engine:step:140 - 2012-03-26 00:00:00\n",
      "2020-07-01 10:00:02.589 | DEBUG    | vivarium.framework.engine:step:140 - 2012-03-26 00:00:00\n",
      "2020-07-01 10:00:02.936 | DEBUG    | vivarium.framework.engine:step:140 - 2012-03-26 00:00:00\n",
      "2020-07-01 10:00:03.082 | DEBUG    | vivarium.framework.engine:step:140 - 2012-04-15 00:00:00\n",
      "2020-07-01 10:00:03.125 | DEBUG    | vivarium.framework.engine:step:140 - 2012-03-26 00:00:00\n",
      "2020-07-01 10:00:04.136 | DEBUG    | vivarium.framework.engine:step:140 - 2012-04-05 00:00:00\n",
      "2020-07-01 10:00:04.367 | DEBUG    | vivarium.framework.engine:step:140 - 2012-04-05 00:00:00\n",
      "2020-07-01 10:00:04.741 | DEBUG    | vivarium.framework.engine:step:140 - 2012-04-05 00:00:00\n",
      "2020-07-01 10:00:04.822 | DEBUG    | vivarium.framework.engine:step:140 - 2012-04-25 00:00:00\n",
      "2020-07-01 10:00:04.946 | DEBUG    | vivarium.framework.engine:step:140 - 2012-04-05 00:00:00\n",
      "2020-07-01 10:00:05.946 | DEBUG    | vivarium.framework.engine:step:140 - 2012-04-15 00:00:00\n",
      "2020-07-01 10:00:06.192 | DEBUG    | vivarium.framework.engine:step:140 - 2012-04-15 00:00:00\n",
      "2020-07-01 10:00:06.472 | DEBUG    | vivarium.framework.engine:step:140 - 2012-04-15 00:00:00\n",
      "2020-07-01 10:00:06.569 | DEBUG    | vivarium.framework.engine:step:140 - 2012-05-05 00:00:00\n",
      "2020-07-01 10:00:06.710 | DEBUG    | vivarium.framework.engine:step:140 - 2012-04-15 00:00:00\n",
      "2020-07-01 10:00:07.718 | DEBUG    | vivarium.framework.engine:step:140 - 2012-04-25 00:00:00\n",
      "2020-07-01 10:00:07.959 | DEBUG    | vivarium.framework.engine:step:140 - 2012-04-25 00:00:00\n",
      "2020-07-01 10:00:08.227 | DEBUG    | vivarium.framework.engine:step:140 - 2012-04-25 00:00:00\n",
      "2020-07-01 10:00:08.286 | DEBUG    | vivarium.framework.engine:step:140 - 2012-05-15 00:00:00\n",
      "2020-07-01 10:00:08.458 | DEBUG    | vivarium.framework.engine:step:140 - 2012-04-25 00:00:00\n",
      "2020-07-01 10:00:09.495 | DEBUG    | vivarium.framework.engine:step:140 - 2012-05-05 00:00:00\n",
      "2020-07-01 10:00:09.756 | DEBUG    | vivarium.framework.engine:step:140 - 2012-05-05 00:00:00\n",
      "2020-07-01 10:00:10.034 | DEBUG    | vivarium.framework.engine:step:140 - 2012-05-05 00:00:00\n",
      "2020-07-01 10:00:10.069 | DEBUG    | vivarium.framework.engine:step:140 - 2012-05-25 00:00:00\n",
      "2020-07-01 10:00:10.259 | DEBUG    | vivarium.framework.engine:step:140 - 2012-05-05 00:00:00\n",
      "2020-07-01 10:00:11.311 | DEBUG    | vivarium.framework.engine:step:140 - 2012-05-15 00:00:00\n",
      "2020-07-01 10:00:11.608 | DEBUG    | vivarium.framework.engine:step:140 - 2012-05-15 00:00:00\n",
      "2020-07-01 10:00:11.793 | DEBUG    | vivarium.framework.engine:step:140 - 2012-05-15 00:00:00\n",
      "2020-07-01 10:00:11.893 | DEBUG    | vivarium.framework.engine:step:140 - 2012-06-04 00:00:00\n",
      "2020-07-01 10:00:12.018 | DEBUG    | vivarium.framework.engine:step:140 - 2012-05-15 00:00:00\n",
      "2020-07-01 10:00:13.325 | DEBUG    | vivarium.framework.engine:step:140 - 2012-05-25 00:00:00\n",
      "2020-07-01 10:00:13.651 | DEBUG    | vivarium.framework.engine:step:140 - 2012-05-25 00:00:00\n",
      "2020-07-01 10:00:13.852 | DEBUG    | vivarium.framework.engine:step:140 - 2012-05-25 00:00:00\n",
      "2020-07-01 10:00:13.888 | DEBUG    | vivarium.framework.engine:step:140 - 2012-06-14 00:00:00\n",
      "2020-07-01 10:00:14.060 | DEBUG    | vivarium.framework.engine:step:140 - 2012-05-25 00:00:00\n",
      "2020-07-01 10:00:15.361 | DEBUG    | vivarium.framework.engine:step:140 - 2012-06-04 00:00:00\n",
      "2020-07-01 10:00:15.643 | DEBUG    | vivarium.framework.engine:step:140 - 2012-06-04 00:00:00\n",
      "2020-07-01 10:00:15.837 | DEBUG    | vivarium.framework.engine:step:140 - 2012-06-04 00:00:00\n",
      "2020-07-01 10:00:15.847 | DEBUG    | vivarium.framework.engine:step:140 - 2012-06-24 00:00:00\n",
      "2020-07-01 10:00:16.014 | DEBUG    | vivarium.framework.engine:step:140 - 2012-06-04 00:00:00\n",
      "2020-07-01 10:00:17.105 | DEBUG    | vivarium.framework.engine:step:140 - 2012-06-14 00:00:00\n",
      "2020-07-01 10:00:17.348 | DEBUG    | vivarium.framework.engine:step:140 - 2012-06-14 00:00:00\n"
     ]
    },
    {
     "name": "stderr",
     "output_type": "stream",
     "text": [
      "2020-07-01 10:00:17.587 | DEBUG    | vivarium.framework.engine:step:140 - 2012-06-14 00:00:00\n",
      "2020-07-01 10:00:17.600 | DEBUG    | vivarium.framework.engine:step:140 - 2012-07-04 00:00:00\n",
      "2020-07-01 10:00:17.739 | DEBUG    | vivarium.framework.engine:step:140 - 2012-06-14 00:00:00\n",
      "2020-07-01 10:00:18.887 | DEBUG    | vivarium.framework.engine:step:140 - 2012-06-24 00:00:00\n",
      "2020-07-01 10:00:19.158 | DEBUG    | vivarium.framework.engine:step:140 - 2012-06-24 00:00:00\n",
      "2020-07-01 10:00:19.313 | DEBUG    | vivarium.framework.engine:step:140 - 2012-06-24 00:00:00\n",
      "2020-07-01 10:00:19.373 | DEBUG    | vivarium.framework.engine:step:140 - 2012-07-14 00:00:00\n",
      "2020-07-01 10:00:19.492 | DEBUG    | vivarium.framework.engine:step:140 - 2012-06-24 00:00:00\n",
      "2020-07-01 10:00:20.641 | DEBUG    | vivarium.framework.engine:step:140 - 2012-07-04 00:00:00\n",
      "2020-07-01 10:00:20.948 | DEBUG    | vivarium.framework.engine:step:140 - 2012-07-04 00:00:00\n",
      "2020-07-01 10:00:21.063 | DEBUG    | vivarium.framework.engine:step:140 - 2012-07-04 00:00:00\n",
      "2020-07-01 10:00:21.164 | DEBUG    | vivarium.framework.engine:step:140 - 2012-07-24 00:00:00\n",
      "2020-07-01 10:00:21.272 | DEBUG    | vivarium.framework.engine:step:140 - 2012-07-04 00:00:00\n",
      "2020-07-01 10:00:22.390 | DEBUG    | vivarium.framework.engine:step:140 - 2012-07-14 00:00:00\n",
      "2020-07-01 10:00:22.711 | DEBUG    | vivarium.framework.engine:step:140 - 2012-07-14 00:00:00\n",
      "2020-07-01 10:00:22.845 | DEBUG    | vivarium.framework.engine:step:140 - 2012-07-14 00:00:00\n",
      "2020-07-01 10:00:22.928 | DEBUG    | vivarium.framework.engine:step:140 - 2012-08-03 00:00:00\n",
      "2020-07-01 10:00:23.045 | DEBUG    | vivarium.framework.engine:step:140 - 2012-07-14 00:00:00\n",
      "2020-07-01 10:00:24.281 | DEBUG    | vivarium.framework.engine:step:140 - 2012-07-24 00:00:00\n",
      "2020-07-01 10:00:24.648 | DEBUG    | vivarium.framework.engine:step:140 - 2012-07-24 00:00:00\n",
      "2020-07-01 10:00:24.758 | DEBUG    | vivarium.framework.engine:step:140 - 2012-07-24 00:00:00\n",
      "2020-07-01 10:00:24.823 | DEBUG    | vivarium.framework.engine:step:140 - 2012-08-13 00:00:00\n",
      "2020-07-01 10:00:24.895 | DEBUG    | vivarium.framework.engine:step:140 - 2012-07-24 00:00:00\n",
      "2020-07-01 10:00:26.179 | DEBUG    | vivarium.framework.engine:step:140 - 2012-08-03 00:00:00\n",
      "2020-07-01 10:00:26.546 | DEBUG    | vivarium.framework.engine:step:140 - 2012-08-03 00:00:00\n",
      "2020-07-01 10:00:26.652 | DEBUG    | vivarium.framework.engine:step:140 - 2012-08-03 00:00:00\n",
      "2020-07-01 10:00:26.779 | DEBUG    | vivarium.framework.engine:step:140 - 2012-08-23 00:00:00\n",
      "2020-07-01 10:00:26.786 | DEBUG    | vivarium.framework.engine:step:140 - 2012-08-03 00:00:00\n",
      "2020-07-01 10:00:28.155 | DEBUG    | vivarium.framework.engine:step:140 - 2012-08-13 00:00:00\n",
      "2020-07-01 10:00:28.465 | DEBUG    | vivarium.framework.engine:step:140 - 2012-08-13 00:00:00\n",
      "2020-07-01 10:00:28.509 | DEBUG    | vivarium.framework.engine:step:140 - 2012-08-13 00:00:00\n",
      "2020-07-01 10:00:28.668 | DEBUG    | vivarium.framework.engine:step:140 - 2012-08-13 00:00:00\n",
      "2020-07-01 10:00:28.672 | DEBUG    | vivarium.framework.engine:step:140 - 2012-09-02 00:00:00\n",
      "2020-07-01 10:00:30.202 | DEBUG    | vivarium.framework.engine:step:140 - 2012-08-23 00:00:00\n",
      "2020-07-01 10:00:30.467 | DEBUG    | vivarium.framework.engine:step:140 - 2012-08-23 00:00:00\n",
      "2020-07-01 10:00:30.625 | DEBUG    | vivarium.framework.engine:step:140 - 2012-08-23 00:00:00\n",
      "2020-07-01 10:00:30.769 | DEBUG    | vivarium.framework.engine:step:140 - 2012-08-23 00:00:00\n",
      "2020-07-01 10:00:30.764 | DEBUG    | vivarium.framework.engine:step:140 - 2012-09-12 00:00:00\n",
      "2020-07-01 10:00:32.498 | DEBUG    | vivarium.framework.engine:step:140 - 2012-09-02 00:00:00\n",
      "2020-07-01 10:00:32.825 | DEBUG    | vivarium.framework.engine:step:140 - 2012-09-02 00:00:00\n",
      "2020-07-01 10:00:32.887 | DEBUG    | vivarium.framework.engine:step:140 - 2012-09-02 00:00:00\n",
      "2020-07-01 10:00:33.019 | DEBUG    | vivarium.framework.engine:step:140 - 2012-09-02 00:00:00\n",
      "2020-07-01 10:00:33.054 | DEBUG    | vivarium.framework.engine:step:140 - 2012-09-22 00:00:00\n",
      "2020-07-01 10:00:34.599 | DEBUG    | vivarium.framework.engine:step:140 - 2012-09-12 00:00:00\n",
      "2020-07-01 10:00:34.898 | DEBUG    | vivarium.framework.engine:step:140 - 2012-09-12 00:00:00\n",
      "2020-07-01 10:00:34.948 | DEBUG    | vivarium.framework.engine:step:140 - 2012-09-12 00:00:00\n",
      "2020-07-01 10:00:35.066 | DEBUG    | vivarium.framework.engine:step:140 - 2012-09-12 00:00:00\n",
      "2020-07-01 10:00:35.138 | DEBUG    | vivarium.framework.engine:step:140 - 2012-10-02 00:00:00\n",
      "2020-07-01 10:00:36.573 | DEBUG    | vivarium.framework.engine:step:140 - 2012-09-22 00:00:00\n",
      "2020-07-01 10:00:36.813 | DEBUG    | vivarium.framework.engine:step:140 - 2012-09-22 00:00:00\n",
      "2020-07-01 10:00:36.939 | DEBUG    | vivarium.framework.engine:step:140 - 2012-09-22 00:00:00\n",
      "2020-07-01 10:00:36.972 | DEBUG    | vivarium.framework.engine:step:140 - 2012-10-12 00:00:00\n",
      "2020-07-01 10:00:36.991 | DEBUG    | vivarium.framework.engine:step:140 - 2012-09-22 00:00:00\n",
      "2020-07-01 10:00:38.382 | DEBUG    | vivarium.framework.engine:step:140 - 2012-10-02 00:00:00\n",
      "2020-07-01 10:00:38.607 | DEBUG    | vivarium.framework.engine:step:140 - 2012-10-02 00:00:00\n",
      "2020-07-01 10:00:38.753 | DEBUG    | vivarium.framework.engine:step:140 - 2012-10-22 00:00:00\n",
      "2020-07-01 10:00:38.756 | DEBUG    | vivarium.framework.engine:step:140 - 2012-10-02 00:00:00\n",
      "2020-07-01 10:00:38.763 | DEBUG    | vivarium.framework.engine:step:140 - 2012-10-02 00:00:00\n",
      "2020-07-01 10:00:40.298 | DEBUG    | vivarium.framework.engine:step:140 - 2012-10-12 00:00:00\n",
      "2020-07-01 10:00:40.540 | DEBUG    | vivarium.framework.engine:step:140 - 2012-10-12 00:00:00\n",
      "2020-07-01 10:00:40.732 | DEBUG    | vivarium.framework.engine:step:140 - 2012-10-12 00:00:00\n",
      "2020-07-01 10:00:40.731 | DEBUG    | vivarium.framework.engine:step:140 - 2012-10-12 00:00:00\n",
      "2020-07-01 10:00:40.752 | DEBUG    | vivarium.framework.engine:step:140 - 2012-11-01 00:00:00\n",
      "2020-07-01 10:00:42.440 | DEBUG    | vivarium.framework.engine:step:140 - 2012-10-22 00:00:00\n",
      "2020-07-01 10:00:42.606 | DEBUG    | vivarium.framework.engine:step:140 - 2012-10-22 00:00:00\n",
      "2020-07-01 10:00:42.729 | DEBUG    | vivarium.framework.engine:step:140 - 2012-10-22 00:00:00\n",
      "2020-07-01 10:00:42.822 | DEBUG    | vivarium.framework.engine:step:140 - 2012-10-22 00:00:00\n",
      "2020-07-01 10:00:42.841 | DEBUG    | vivarium.framework.engine:step:140 - 2012-11-11 00:00:00\n",
      "2020-07-01 10:00:44.368 | DEBUG    | vivarium.framework.engine:step:140 - 2012-11-01 00:00:00\n",
      "2020-07-01 10:00:44.512 | DEBUG    | vivarium.framework.engine:step:140 - 2012-11-01 00:00:00\n",
      "2020-07-01 10:00:44.619 | DEBUG    | vivarium.framework.engine:step:140 - 2012-11-01 00:00:00\n",
      "2020-07-01 10:00:44.762 | DEBUG    | vivarium.framework.engine:step:140 - 2012-11-21 00:00:00\n",
      "2020-07-01 10:00:44.786 | DEBUG    | vivarium.framework.engine:step:140 - 2012-11-01 00:00:00\n",
      "2020-07-01 10:00:46.376 | DEBUG    | vivarium.framework.engine:step:140 - 2012-11-11 00:00:00\n",
      "2020-07-01 10:00:46.436 | DEBUG    | vivarium.framework.engine:step:140 - 2012-11-11 00:00:00\n",
      "2020-07-01 10:00:46.591 | DEBUG    | vivarium.framework.engine:step:140 - 2012-11-11 00:00:00\n",
      "2020-07-01 10:00:46.693 | DEBUG    | vivarium.framework.engine:step:140 - 2012-12-01 00:00:00\n",
      "2020-07-01 10:00:46.736 | DEBUG    | vivarium.framework.engine:step:140 - 2012-11-11 00:00:00\n",
      "2020-07-01 10:00:48.348 | DEBUG    | vivarium.framework.engine:step:140 - 2012-11-21 00:00:00\n",
      "2020-07-01 10:00:48.357 | DEBUG    | vivarium.framework.engine:step:140 - 2012-11-21 00:00:00\n",
      "2020-07-01 10:00:48.585 | DEBUG    | vivarium.framework.engine:step:140 - 2012-11-21 00:00:00\n",
      "2020-07-01 10:00:48.693 | DEBUG    | vivarium.framework.engine:step:140 - 2012-12-11 00:00:00\n",
      "2020-07-01 10:00:48.782 | DEBUG    | vivarium.framework.engine:step:140 - 2012-11-21 00:00:00\n",
      "2020-07-01 10:00:50.235 | DEBUG    | vivarium.framework.engine:step:140 - 2012-12-01 00:00:00\n",
      "2020-07-01 10:00:50.282 | DEBUG    | vivarium.framework.engine:step:140 - 2012-12-01 00:00:00\n",
      "2020-07-01 10:00:50.401 | DEBUG    | vivarium.framework.engine:step:140 - 2012-12-01 00:00:00\n",
      "2020-07-01 10:00:50.526 | DEBUG    | vivarium.framework.engine:step:140 - 2012-12-21 00:00:00\n",
      "2020-07-01 10:00:50.609 | DEBUG    | vivarium.framework.engine:step:140 - 2012-12-01 00:00:00\n"
     ]
    },
    {
     "name": "stderr",
     "output_type": "stream",
     "text": [
      "2020-07-01 10:00:52.064 | DEBUG    | vivarium.framework.engine:step:140 - 2012-12-11 00:00:00\n",
      "2020-07-01 10:00:52.182 | DEBUG    | vivarium.framework.engine:step:140 - 2012-12-11 00:00:00\n",
      "2020-07-01 10:00:52.287 | DEBUG    | vivarium.framework.engine:step:140 - 2012-12-11 00:00:00\n",
      "2020-07-01 10:00:52.413 | DEBUG    | vivarium.framework.engine:step:140 - 2012-12-31 00:00:00\n",
      "2020-07-01 10:00:52.491 | DEBUG    | vivarium.framework.engine:step:140 - 2012-12-11 00:00:00\n",
      "2020-07-01 10:00:53.830 | DEBUG    | vivarium.framework.engine:step:140 - 2012-12-21 00:00:00\n",
      "2020-07-01 10:00:54.016 | DEBUG    | vivarium.framework.engine:step:140 - 2012-12-21 00:00:00\n",
      "2020-07-01 10:00:54.058 | DEBUG    | vivarium.framework.engine:step:140 - 2012-12-21 00:00:00\n",
      "2020-07-01 10:00:54.295 | DEBUG    | vivarium.framework.engine:step:140 - 2012-12-21 00:00:00\n",
      "2020-07-01 10:00:55.510 | DEBUG    | vivarium.framework.engine:step:140 - 2012-12-31 00:00:00\n",
      "2020-07-01 10:00:55.713 | DEBUG    | vivarium.framework.engine:step:140 - 2012-12-31 00:00:00\n",
      "2020-07-01 10:00:55.735 | DEBUG    | vivarium.framework.engine:step:140 - 2012-12-31 00:00:00\n",
      "2020-07-01 10:00:55.937 | DEBUG    | vivarium.framework.engine:step:140 - 2012-12-31 00:00:00\n"
     ]
    }
   ],
   "source": [
    "sim_start = time.time()\n",
    "\n",
    "mortality_multiply_list = [0.5, 0.8, 1, 1.2, 2]\n",
    "\n",
    "proc_pool = multiprocessing.Pool(6)\n",
    "results = proc_pool.map(run_simulation, (mortality_multiply_list))\n",
    "proc_pool.close()\n",
    "proc_pool.join()\n",
    "\n",
    "sim_end = time.time()"
   ]
  },
  {
   "cell_type": "code",
   "execution_count": 7,
   "metadata": {},
   "outputs": [
    {
     "data": {
      "text/plain": [
       "5"
      ]
     },
     "execution_count": 7,
     "metadata": {},
     "output_type": "execute_result"
    }
   ],
   "source": [
    "len(results)"
   ]
  },
  {
   "cell_type": "code",
   "execution_count": 8,
   "metadata": {},
   "outputs": [
    {
     "name": "stdout",
     "output_type": "stream",
     "text": [
      "Total time: 229.27352809906006\n",
      "----\n",
      "0.5\n",
      "#alive: 518002\n",
      "#dead: 4419\n",
      "----\n",
      "0.8\n",
      "#alive: 515342\n",
      "#dead: 7079\n",
      "----\n",
      "1\n",
      "#alive: 513679\n",
      "#dead: 8742\n",
      "----\n",
      "1.2\n",
      "#alive: 512146\n",
      "#dead: 10275\n",
      "----\n",
      "2\n",
      "#alive: 506197\n",
      "#dead: 16224\n"
     ]
    }
   ],
   "source": [
    "print(f\"Total time: {sim_end - sim_start}\")\n",
    "for i, pop in enumerate(results):\n",
    "    print(\"----\")\n",
    "    print(mortality_multiply_list[i])\n",
    "    print (f'#alive: {len(pop[pop[\"alive\"]==\"alive\"])}')\n",
    "    print (f'#dead: {len(pop[pop[\"alive\"]!=\"alive\"])}')"
   ]
  },
  {
   "cell_type": "markdown",
   "metadata": {},
   "source": [
    "## Plot results"
   ]
  },
  {
   "cell_type": "code",
   "execution_count": 9,
   "metadata": {},
   "outputs": [
    {
     "name": "stdout",
     "output_type": "stream",
     "text": [
      "min_time: 2011-01-01\n",
      "max_time: 2012-12-31 00:00:00\n"
     ]
    }
   ],
   "source": [
    "#min_time = pop[\"entrance_time\"].min().strftime(\"%Y-%m-%d\")\n",
    "min_time = \"2011-01-01\"\n",
    "max_time = datetime.datetime.strptime(\"2012-12-31\", \"%Y-%m-%d\")\n",
    "\n",
    "print(\"min_time:\", min_time)\n",
    "print(\"max_time:\", max_time)"
   ]
  },
  {
   "cell_type": "code",
   "execution_count": 10,
   "metadata": {},
   "outputs": [],
   "source": [
    "from pandas.plotting import register_matplotlib_converters\n",
    "register_matplotlib_converters()"
   ]
  },
  {
   "cell_type": "code",
   "execution_count": 11,
   "metadata": {},
   "outputs": [
    {
     "data": {
      "image/png": "[encoded data removed]",
      "text/plain": [
       "<Figure size 1080x720 with 1 Axes>"
      ]
     },
     "metadata": {
      "needs_background": "light"
     },
     "output_type": "display_data"
    }
   ],
   "source": [
    "# --- input\n",
    "# intervals for plotting (in days)\n",
    "interval_in_days = 10\n",
    "# list of ethnicities\n",
    "sel_ethnicity = [\"WBI\", \"WHO\"]\n",
    "\n",
    "pop = results[0]\n",
    "plt.figure(figsize=(15, 10))\n",
    "\n",
    "cmap = plt.get_cmap('Greys')\n",
    "colors = [cmap(i) for i in np.linspace(0, 1, len(results)+2)]\n",
    "\n",
    "for i, pop in enumerate(results):\n",
    "    # Population (total, for selected ethnicities, gender)\n",
    "    total_population = len(pop)\n",
    "    total_population_ETH = len(pop[pop[\"ethnicity\"].isin(sel_ethnicity)])\n",
    "    total_population_male = len(pop[pop[\"sex\"] == 1])\n",
    "    total_population_female = len(pop[pop[\"sex\"] == 2])\n",
    "\n",
    "    time_axis = []\n",
    "    population_axis = []\n",
    "    population_ETH_axis = []\n",
    "    population_M_axis = []\n",
    "    population_F_axis = []\n",
    "\n",
    "    curr_time = datetime.datetime.strptime(min_time, \"%Y-%m-%d\")\n",
    "\n",
    "    \n",
    "    \n",
    "    while curr_time <= max_time:\n",
    "        time_axis.append(curr_time)\n",
    "\n",
    "        # dead population until current time (changes in the while loop)\n",
    "        pop_dead = pop[pop[\"exit_time\"] <= curr_time.strftime(\"%Y-%m-%d\")]\n",
    "\n",
    "        num_dead_population = total_population - len(pop_dead)\n",
    "        population_axis.append(num_dead_population)\n",
    "\n",
    "        num_dead_population_eth = total_population_ETH - len(pop_dead[pop_dead[\"ethnicity\"].isin(sel_ethnicity)])\n",
    "        population_ETH_axis.append(num_dead_population_eth)\n",
    "\n",
    "        num_dead_male = total_population_male - len(pop_dead[pop_dead[\"sex\"] == 1])\n",
    "        population_M_axis.append(num_dead_male)\n",
    "\n",
    "        num_dead_female = total_population_female - len(pop_dead[pop_dead[\"sex\"] == 2])\n",
    "        population_F_axis.append(num_dead_female)\n",
    "\n",
    "        # go to next time, according to the selected interval_in_days\n",
    "        curr_time = datetime.datetime.strptime(curr_time.strftime(\"%Y-%m-%d\"), \"%Y-%m-%d\")\n",
    "        curr_time += datetime.timedelta(days=interval_in_days)\n",
    "\n",
    "    # Population (total)\n",
    "    plt.plot(time_axis, population_axis, \n",
    "             c=colors[i+2], lw=4, marker=\"o\", \n",
    "             label=f\"{mortality_multiply_list[i]}\"\n",
    "            )\n",
    "plt.xlabel(\"Time\", size=32)\n",
    "plt.ylabel(\"Population\", size=32)\n",
    "plt.xticks(size=24, rotation=90)\n",
    "plt.yticks(size=24)\n",
    "plt.grid()\n",
    "plt.legend(fontsize=24)\n",
    "plt.show()"
   ]
  },
  {
   "cell_type": "code",
   "execution_count": null,
   "metadata": {},
   "outputs": [],
   "source": []
  }
 ],
 "metadata": {
  "kernelspec": {
   "display_name": "Python 3",
   "language": "python",
   "name": "python3"
  },
  "language_info": {
   "codemirror_mode": {
    "name": "ipython",
    "version": 3
   },
   "file_extension": ".py",
   "mimetype": "text/x-python",
   "name": "python",
   "nbconvert_exporter": "python",
   "pygments_lexer": "ipython3",
   "version": "3.7.6"
  }
 },
 "nbformat": 4,
 "nbformat_minor": 4
}
